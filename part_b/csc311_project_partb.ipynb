{
  "nbformat": 4,
  "nbformat_minor": 0,
  "metadata": {
    "colab": {
      "provenance": [],
      "gpuType": "A100"
    },
    "kernelspec": {
      "name": "python3",
      "display_name": "Python 3"
    },
    "language_info": {
      "name": "python"
    },
    "accelerator": "GPU"
  },
  "cells": [
    {
      "cell_type": "markdown",
      "source": [
        "# CSC 311 Project Part b\n",
        "Yulong Wu, Sunyi Liu, Kaiyao Duan, Aiwei Yin\n",
        "\n",
        "This is the code that contains data manipulation, method definition, and training for our model in part b."
      ],
      "metadata": {
        "id": "nQovAnoGAHHV"
      }
    },
    {
      "cell_type": "markdown",
      "source": [
        "## Definition of functions and preparation to train our model"
      ],
      "metadata": {
        "id": "oDVOPM8nAW5L"
      }
    },
    {
      "cell_type": "code",
      "source": [
        "from google.colab import drive\n",
        "drive.mount('/content/drive')"
      ],
      "metadata": {
        "colab": {
          "base_uri": "https://localhost:8080/"
        },
        "id": "wf3Qx25A7-4j",
        "outputId": "3c1f2f84-59aa-4622-c70c-0954f7356a33"
      },
      "execution_count": null,
      "outputs": [
        {
          "output_type": "stream",
          "name": "stdout",
          "text": [
            "Mounted at /content/drive\n"
          ]
        }
      ]
    },
    {
      "cell_type": "markdown",
      "source": [
        "we uploaded the project starter code to google drive to utilize functions for loading data"
      ],
      "metadata": {
        "id": "HXsgOAmPA5B1"
      }
    },
    {
      "cell_type": "code",
      "execution_count": null,
      "metadata": {
        "colab": {
          "base_uri": "https://localhost:8080/"
        },
        "id": "aZcRf6Jm4V5l",
        "outputId": "e28eb6a9-b4c0-462b-e02c-5645f11ae1b1"
      },
      "outputs": [
        {
          "output_type": "execute_result",
          "data": {
            "text/plain": [
              "['test_data.csv',\n",
              " 'subject_meta.csv',\n",
              " 'train_data.csv',\n",
              " 'question_meta.csv',\n",
              " 'student_meta.csv',\n",
              " 'valid_data.csv',\n",
              " 'train_sparse.npz']"
            ]
          },
          "metadata": {},
          "execution_count": 2
        }
      ],
      "source": [
        "base_dir = '/content/drive/MyDrive/UT/CSC311/csc311-project/'\n",
        "starter_code_dir = base_dir + 'part_a/'\n",
        "data_dir = base_dir + 'data/'\n",
        "import os\n",
        "os.listdir(base_dir)\n",
        "os.listdir(starter_code_dir)\n",
        "os.listdir(data_dir)"
      ]
    },
    {
      "cell_type": "code",
      "source": [
        "import sys\n",
        "sys.path.append(base_dir)\n",
        "sys.path.append(data_dir)"
      ],
      "metadata": {
        "id": "xmETFg0X8QG1"
      },
      "execution_count": null,
      "outputs": []
    },
    {
      "cell_type": "code",
      "source": [
        "from utils import *\n",
        "from torch.autograd import Variable\n",
        "\n",
        "import torch.nn as nn\n",
        "import torch.nn.functional as F\n",
        "import torch.optim as optim\n",
        "import torch.utils.data\n",
        "\n",
        "import numpy as np\n",
        "import torch"
      ],
      "metadata": {
        "id": "PIbCbMVm8RpO"
      },
      "execution_count": null,
      "outputs": []
    },
    {
      "cell_type": "code",
      "source": [
        "import matplotlib.pyplot as plt"
      ],
      "metadata": {
        "id": "xztUZOLI8TP5"
      },
      "execution_count": null,
      "outputs": []
    },
    {
      "cell_type": "code",
      "source": [
        "device = torch.device(\"cuda\" if torch.cuda.is_available() else \"cpu\")\n",
        "print(device)"
      ],
      "metadata": {
        "colab": {
          "base_uri": "https://localhost:8080/"
        },
        "id": "S9B-e1ek8U06",
        "outputId": "605c24bc-0c36-48ce-bca3-5df65cf6da30"
      },
      "execution_count": null,
      "outputs": [
        {
          "output_type": "stream",
          "name": "stdout",
          "text": [
            "cuda\n"
          ]
        }
      ]
    },
    {
      "cell_type": "code",
      "source": [
        "import matplotlib.pyplot as plt"
      ],
      "metadata": {
        "id": "X5zsRSTU_kMi"
      },
      "execution_count": null,
      "outputs": []
    },
    {
      "cell_type": "code",
      "source": [
        "from sklearn.metrics import precision_score, recall_score, f1_score, confusion_matrix"
      ],
      "metadata": {
        "id": "DnzKBydoQm6U"
      },
      "execution_count": null,
      "outputs": []
    },
    {
      "cell_type": "markdown",
      "source": [
        "Our slightly modified train function, so that we can use colab's GPU to train"
      ],
      "metadata": {
        "id": "tx18iKia_xLs"
      }
    },
    {
      "cell_type": "code",
      "source": [
        "def train(model, lr, train_data, zero_train_data, valid_data, num_epoch):\n",
        "    \"\"\" Train the neural network, where the objective also includes\n",
        "    a regularizer.\n",
        "\n",
        "    :param model: Module\n",
        "    :param lr: float\n",
        "    :param lamb: float\n",
        "    :param train_data: 2D FloatTensor\n",
        "    :param zero_train_data: 2D FloatTensor\n",
        "    :param valid_data: Dict\n",
        "    :param num_epoch: int\n",
        "    :return: None\n",
        "    \"\"\"\n",
        "    # TODO: Add a regularizer to the cost function.\n",
        "\n",
        "    # Tell PyTorch you are training the model.\n",
        "    model.train()\n",
        "\n",
        "    # Define optimizers and loss function.\n",
        "    optimizer = optim.SGD(model.parameters(), lr=lr)\n",
        "    num_student = train_data.shape[0]\n",
        "\n",
        "    for epoch in range(0, num_epoch):\n",
        "        train_loss = 0.\n",
        "\n",
        "        for user_id in range(num_student):\n",
        "            inputs = Variable(zero_train_data[user_id]).unsqueeze(0)\n",
        "            metadata = Variable(student_metadata[user_id]).unsqueeze(0)\n",
        "            target = inputs.clone()\n",
        "\n",
        "            optimizer.zero_grad()\n",
        "            output = model(inputs, metadata)\n",
        "\n",
        "            # Mask the target to only compute the gradient of valid entries.\n",
        "            nan_mask = torch.isnan(train_data[user_id].unsqueeze(0))\n",
        "            target[0:1][nan_mask] = output[0:1][nan_mask]\n",
        "\n",
        "            loss = torch.sum((output - target) ** 2.)\n",
        "            # loss = loss + lamb * model.get_weight_norm()**2.\n",
        "            loss.backward()\n",
        "\n",
        "            train_loss += loss.item()\n",
        "            optimizer.step()\n",
        "\n",
        "        valid_acc = evaluate(model, zero_train_data, valid_data)\n",
        "        print(\"Epoch: {} \\tTraining Cost: {:.6f}\\t \"\n",
        "              \"Valid Acc: {}\".format(epoch, train_loss, valid_acc))"
      ],
      "metadata": {
        "id": "dCbFMruO_tGS"
      },
      "execution_count": null,
      "outputs": []
    },
    {
      "cell_type": "markdown",
      "source": [
        "this function is copied from the starter code"
      ],
      "metadata": {
        "id": "HuqHKLWVBlFC"
      }
    },
    {
      "cell_type": "code",
      "source": [
        "def evaluate(model, train_data, valid_data):\n",
        "    \"\"\" Evaluate the valid_data on the current model.\n",
        "\n",
        "    :param model: Module\n",
        "    :param train_data: 2D FloatTensor\n",
        "    :param valid_data: A dictionary {user_id: list,\n",
        "    question_id: list, is_correct: list}\n",
        "    :return: float\n",
        "    \"\"\"\n",
        "    # Tell PyTorch you are evaluating the model.\n",
        "    model.eval()\n",
        "\n",
        "    total = 0\n",
        "    correct = 0\n",
        "\n",
        "    for i, u in enumerate(valid_data[\"user_id\"]):\n",
        "        inputs = Variable(train_data[u]).unsqueeze(0)\n",
        "        metadata = Variable(student_metadata[u]).unsqueeze(0)\n",
        "        output = model(inputs, metadata)\n",
        "\n",
        "        guess = output[0][valid_data[\"question_id\"][i]].item() >= 0.5\n",
        "        if guess == valid_data[\"is_correct\"][i]:\n",
        "            correct += 1\n",
        "        total += 1\n",
        "    return correct / float(total)"
      ],
      "metadata": {
        "id": "6k_eXxag_-pc"
      },
      "execution_count": null,
      "outputs": []
    },
    {
      "cell_type": "markdown",
      "source": [
        "we also modified evaluate function slightly to get more details about the model during testing"
      ],
      "metadata": {
        "id": "HBKaIvMUBf_h"
      }
    },
    {
      "cell_type": "code",
      "source": [
        "def evaluate_detailed(model, train_data, test_data):\n",
        "    \"\"\"\n",
        "    Evaluate the model on the provided test data and compute detailed classification metrics.\n",
        "\n",
        "    :param model: The PyTorch model to evaluate.\n",
        "    :param train_data: 2D FloatTensor of training data.\n",
        "    :param test_data: A dictionary containing 'user_id', 'question_id', and 'is_correct' lists.\n",
        "    :return: A dictionary with accuracy, precision, recall, F1 score, false positives, false negatives, true positives, true negatives, total positives, and total negatives.\n",
        "    \"\"\"\n",
        "    model.eval()\n",
        "\n",
        "    predictions = []\n",
        "    true_labels = []\n",
        "\n",
        "    with torch.no_grad():\n",
        "        for i, u in enumerate(test_data[\"user_id\"]):\n",
        "            inputs = train_data[u].unsqueeze(0)\n",
        "            metadata = student_metadata[u].unsqueeze(0)\n",
        "            output = model(inputs, metadata)\n",
        "\n",
        "            guess = output[0][test_data[\"question_id\"][i]].item() >= 0.5\n",
        "            predictions.append(int(guess))\n",
        "            true_labels.append(test_data[\"is_correct\"][i])\n",
        "\n",
        "    predictions = torch.tensor(predictions)\n",
        "    true_labels = torch.tensor(true_labels)\n",
        "\n",
        "    accuracy = (predictions == true_labels).float().mean().item()\n",
        "    precision = precision_score(true_labels, predictions, average='binary')\n",
        "    recall = recall_score(true_labels, predictions, average='binary')\n",
        "    f1 = f1_score(true_labels, predictions, average='binary')\n",
        "\n",
        "    tn, fp, fn, tp = confusion_matrix(true_labels, predictions).ravel()\n",
        "    total_positives = tp + fn\n",
        "    total_negatives = tn + fp\n",
        "\n",
        "    return {\n",
        "        'accuracy': accuracy,\n",
        "        'precision': precision,\n",
        "        'recall': recall,\n",
        "        'F1_score': f1,\n",
        "        'false_positives': fp,\n",
        "        'false_negatives': fn,\n",
        "        'true_positives': tp,\n",
        "        'true_negatives': tn,\n",
        "        'total_positives': total_positives,\n",
        "        'total_negatives': total_negatives\n",
        "    }"
      ],
      "metadata": {
        "id": "USYTxQS0Bc_6"
      },
      "execution_count": null,
      "outputs": []
    },
    {
      "cell_type": "markdown",
      "source": [
        "### Load original data\n",
        "the following function is copied from the starter code"
      ],
      "metadata": {
        "id": "sntEUaiJBHYW"
      }
    },
    {
      "cell_type": "code",
      "source": [
        "def load_data(base_path=\"../data\"):\n",
        "    \"\"\" Load the data in PyTorch Tensor.\n",
        "\n",
        "    :return: (zero_train_matrix, train_data, valid_data, test_data)\n",
        "        WHERE:\n",
        "        zero_train_matrix: 2D sparse matrix where missing entries are\n",
        "        filled with 0.\n",
        "        train_data: 2D sparse matrix\n",
        "        valid_data: A dictionary {user_id: list,\n",
        "        user_id: list, is_correct: list}\n",
        "        test_data: A dictionary {user_id: list,\n",
        "        user_id: list, is_correct: list}\n",
        "    \"\"\"\n",
        "    train_matrix = load_train_sparse(base_path).toarray()\n",
        "    valid_data = load_valid_csv(base_path)\n",
        "    test_data = load_public_test_csv(base_path)\n",
        "\n",
        "    zero_train_matrix = train_matrix.copy()\n",
        "    # Fill in the missing entries to 0.\n",
        "    zero_train_matrix[np.isnan(train_matrix)] = 0\n",
        "    # Change to Float Tensor for PyTorch.\n",
        "    zero_train_matrix = torch.FloatTensor(zero_train_matrix)\n",
        "    train_matrix = torch.FloatTensor(train_matrix)\n",
        "\n",
        "    return zero_train_matrix, train_matrix, valid_data, test_data"
      ],
      "metadata": {
        "id": "YwJLC7WQBPQ4"
      },
      "execution_count": null,
      "outputs": []
    },
    {
      "cell_type": "code",
      "source": [
        "zero_train_matrix, train_matrix, valid_data, test_data = load_data(data_dir)\n",
        "train_matrix = train_matrix.to(device)\n",
        "zero_train_matrix = zero_train_matrix.to(device)"
      ],
      "metadata": {
        "id": "tULY_ueiBqdJ"
      },
      "execution_count": null,
      "outputs": []
    },
    {
      "cell_type": "markdown",
      "source": [
        "### Load question metadata"
      ],
      "metadata": {
        "id": "bvSA16bTBv1q"
      }
    },
    {
      "cell_type": "code",
      "source": [
        "import pandas as pd\n",
        "import json"
      ],
      "metadata": {
        "id": "EO7aqEitEQhM"
      },
      "execution_count": null,
      "outputs": []
    },
    {
      "cell_type": "code",
      "source": [
        "question_df = pd.read_csv(data_dir + 'question_meta.csv')\n",
        "num_questions = question_df.shape[0]\n",
        "subject_df = pd.read_csv(data_dir + 'subject_meta.csv')\n",
        "num_subjects = subject_df.shape[0]\n",
        "question_matrix = np.zeros((num_questions, num_subjects), dtype=int)\n",
        "for _, row in question_df.iterrows():\n",
        "    li = json.loads(row.subject_id)\n",
        "    for i in li:\n",
        "        question_matrix[row.question_id, i] = 1"
      ],
      "metadata": {
        "id": "HphujPQQEUud"
      },
      "execution_count": null,
      "outputs": []
    },
    {
      "cell_type": "code",
      "source": [
        "question_matrix.shape"
      ],
      "metadata": {
        "colab": {
          "base_uri": "https://localhost:8080/"
        },
        "id": "GRVAsmihEWO2",
        "outputId": "d59496eb-5275-4972-c014-29fa9c9f6b2a"
      },
      "execution_count": null,
      "outputs": [
        {
          "output_type": "execute_result",
          "data": {
            "text/plain": [
              "(1774, 388)"
            ]
          },
          "metadata": {},
          "execution_count": 16
        }
      ]
    },
    {
      "cell_type": "markdown",
      "source": [
        "Clean the data further, remove all the columns of `question_matrix` that consists of only 1's or 0's"
      ],
      "metadata": {
        "id": "XXVZnIF7EfUr"
      }
    },
    {
      "cell_type": "code",
      "source": [
        "question_matrix = question_matrix[:, ~((question_matrix == 1).all(axis=0) | (question_matrix == 0).all(axis=0))]\n",
        "question_matrix.shape"
      ],
      "metadata": {
        "colab": {
          "base_uri": "https://localhost:8080/"
        },
        "id": "BhzUpTe2EZmO",
        "outputId": "d2a5ee92-b6fe-459e-808a-314472b7a561"
      },
      "execution_count": null,
      "outputs": [
        {
          "output_type": "execute_result",
          "data": {
            "text/plain": [
              "(1774, 288)"
            ]
          },
          "metadata": {},
          "execution_count": 17
        }
      ]
    },
    {
      "cell_type": "code",
      "source": [
        "num_subject = question_matrix.shape[1]\n",
        "num_subject"
      ],
      "metadata": {
        "colab": {
          "base_uri": "https://localhost:8080/"
        },
        "id": "6GkQI4zBFFn6",
        "outputId": "e9f6209a-8f78-40ab-e06b-fa967a1a8013"
      },
      "execution_count": null,
      "outputs": [
        {
          "output_type": "execute_result",
          "data": {
            "text/plain": [
              "288"
            ]
          },
          "metadata": {},
          "execution_count": 18
        }
      ]
    },
    {
      "cell_type": "code",
      "source": [
        "non_zero = question_matrix.nonzero()\n",
        "non_zero"
      ],
      "metadata": {
        "colab": {
          "base_uri": "https://localhost:8080/"
        },
        "id": "q0TCS3cjIU2D",
        "outputId": "1dfa1853-ff72-48af-ca0c-6e6c5ef45152"
      },
      "execution_count": null,
      "outputs": [
        {
          "output_type": "execute_result",
          "data": {
            "text/plain": [
              "(array([   0,    0,    0, ..., 1773, 1773, 1773]),\n",
              " array([ 37,  41, 112, ...,   0,   1,  89]))"
            ]
          },
          "metadata": {},
          "execution_count": 19
        }
      ]
    },
    {
      "cell_type": "code",
      "source": [
        "non_zero_row, non_zero_col = non_zero\n",
        "subjects = []\n",
        "for i in range(num_questions):\n",
        "    subjects.append(torch.LongTensor(non_zero_col[non_zero_row == i]).unsqueeze(0))\n",
        "subjects[:5]"
      ],
      "metadata": {
        "colab": {
          "base_uri": "https://localhost:8080/"
        },
        "id": "-kOcraiZIWS4",
        "outputId": "f9ec5f7f-1ac3-4ab9-f7a4-b0dea4e3e4a5"
      },
      "execution_count": null,
      "outputs": [
        {
          "output_type": "execute_result",
          "data": {
            "text/plain": [
              "[tensor([[ 37,  41, 112]]),\n",
              " tensor([[ 16,  22, 197]]),\n",
              " tensor([[  0,  89, 137]]),\n",
              " tensor([[  0,   7, 154]]),\n",
              " tensor([[16, 31, 93]])]"
            ]
          },
          "metadata": {},
          "execution_count": 20
        }
      ]
    },
    {
      "cell_type": "code",
      "source": [
        "subjects = [s.to(device) for s in subjects]\n",
        "subjects[:5]"
      ],
      "metadata": {
        "colab": {
          "base_uri": "https://localhost:8080/"
        },
        "id": "tUdNBtJQIZ78",
        "outputId": "300bf8ce-4087-48f1-f861-7c7cfdaac44b"
      },
      "execution_count": null,
      "outputs": [
        {
          "output_type": "execute_result",
          "data": {
            "text/plain": [
              "[tensor([[ 37,  41, 112]], device='cuda:0'),\n",
              " tensor([[ 16,  22, 197]], device='cuda:0'),\n",
              " tensor([[  0,  89, 137]], device='cuda:0'),\n",
              " tensor([[  0,   7, 154]], device='cuda:0'),\n",
              " tensor([[16, 31, 93]], device='cuda:0')]"
            ]
          },
          "metadata": {},
          "execution_count": 21
        }
      ]
    },
    {
      "cell_type": "markdown",
      "source": [
        "### Student Metadata"
      ],
      "metadata": {
        "id": "FGVmYsKPFKQK"
      }
    },
    {
      "cell_type": "code",
      "source": [
        "student_df = pd.read_csv(data_dir + 'student_meta.csv', index_col='user_id')\n",
        "student_df.sort_index(inplace=True)"
      ],
      "metadata": {
        "id": "D1aOSQuBFJVy"
      },
      "execution_count": null,
      "outputs": []
    },
    {
      "cell_type": "code",
      "source": [
        "genders = student_df['gender'].to_numpy()\n",
        "genders_onehot = np.eye(3)[genders]\n",
        "genders_onehot"
      ],
      "metadata": {
        "colab": {
          "base_uri": "https://localhost:8080/"
        },
        "id": "OymhCppEFTDO",
        "outputId": "96b44355-327f-4019-d312-f3d788fb2196"
      },
      "execution_count": null,
      "outputs": [
        {
          "output_type": "execute_result",
          "data": {
            "text/plain": [
              "array([[0., 0., 1.],\n",
              "       [0., 1., 0.],\n",
              "       [1., 0., 0.],\n",
              "       ...,\n",
              "       [0., 1., 0.],\n",
              "       [0., 1., 0.],\n",
              "       [0., 1., 0.]])"
            ]
          },
          "metadata": {},
          "execution_count": 23
        }
      ]
    },
    {
      "cell_type": "code",
      "source": [
        "from datetime import datetime"
      ],
      "metadata": {
        "id": "78j_I659FaTo"
      },
      "execution_count": null,
      "outputs": []
    },
    {
      "cell_type": "markdown",
      "source": [
        "calculate each person's age based on theri date of birth, 0 means no data, and normalize them"
      ],
      "metadata": {
        "id": "tM5WteYSFsuJ"
      }
    },
    {
      "cell_type": "code",
      "source": [
        "student_df['dates'] = pd.to_datetime(student_df['data_of_birth'], errors='coerce')\n",
        "reference_date = datetime.now()\n",
        "student_df['relative_age_years'] = (reference_date - student_df['dates']).dt.days / 365.25"
      ],
      "metadata": {
        "id": "UvccYXBuFble"
      },
      "execution_count": null,
      "outputs": []
    },
    {
      "cell_type": "code",
      "source": [
        "ages = student_df['relative_age_years'].fillna(0).to_numpy()\n",
        "ages_norm = (ages - ages.mean())/ages.std()\n",
        "print(ages_norm.mean())\n",
        "print(ages_norm.var())\n",
        "ages_norm = ages_norm[..., np.newaxis]\n",
        "ages_norm"
      ],
      "metadata": {
        "colab": {
          "base_uri": "https://localhost:8080/"
        },
        "id": "UAZDV9axFdM3",
        "outputId": "5e6ba20e-6c1a-4b5f-8d65-b1b258ccadb5"
      },
      "execution_count": null,
      "outputs": [
        {
          "output_type": "stream",
          "name": "stdout",
          "text": [
            "6.55482228560978e-17\n",
            "0.9999999999999998\n"
          ]
        },
        {
          "output_type": "execute_result",
          "data": {
            "text/plain": [
              "array([[ 0.86596527],\n",
              "       [ 1.23186314],\n",
              "       [-1.38958222],\n",
              "       [ 0.70615491],\n",
              "       [ 0.89404007],\n",
              "       [-1.38958222],\n",
              "       [ 0.96006211],\n",
              "       [-1.38958222],\n",
              "       [-1.38958222],\n",
              "       [ 0.67808011],\n",
              "       [-1.38958222],\n",
              "       [-1.38958222],\n",
              "       [ 1.10105311],\n",
              "       [ 0.44330079],\n",
              "       [ 0.86596527],\n",
              "       [ 0.6126751 ],\n",
              "       [ 0.5281422 ],\n",
              "       [ 0.66851617],\n",
              "       [ 0.60311115],\n",
              "       [ 0.79994323],\n",
              "       [ 3.02525633],\n",
              "       [ 0.74410216],\n",
              "       [-1.38958222],\n",
              "       [-1.38958222],\n",
              "       [ 0.42478993],\n",
              "       [ 0.74410216],\n",
              "       [ 0.63149446],\n",
              "       [ 0.36802332],\n",
              "       [ 0.49050346],\n",
              "       [ 0.32082064],\n",
              "       [-1.38958222],\n",
              "       [ 0.70615491],\n",
              "       [ 0.35876789],\n",
              "       [-1.38958222],\n",
              "       [-1.38958222],\n",
              "       [-1.38958222],\n",
              "       [ 0.56547242],\n",
              "       [ 0.4716841 ],\n",
              "       [ 0.92242338],\n",
              "       [ 0.88447613],\n",
              "       [-1.38958222],\n",
              "       [-1.38958222],\n",
              "       [ 0.63149446],\n",
              "       [ 0.69689948],\n",
              "       [ 0.84714591],\n",
              "       [-1.38958222],\n",
              "       [-1.38958222],\n",
              "       [-1.38958222],\n",
              "       [ 0.83789048],\n",
              "       [ 0.78112386],\n",
              "       [ 0.5000674 ],\n",
              "       [ 0.67808011],\n",
              "       [-1.38958222],\n",
              "       [ 0.89404007],\n",
              "       [ 0.51888677],\n",
              "       [-1.38958222],\n",
              "       [ 0.73453821],\n",
              "       [ 0.60311115],\n",
              "       [ 0.83789048],\n",
              "       [ 0.82832654],\n",
              "       [ 0.55590848],\n",
              "       [ 0.9316788 ],\n",
              "       [-1.38958222],\n",
              "       [-1.38958222],\n",
              "       [ 0.73453821],\n",
              "       [ 0.85670985],\n",
              "       [ 1.0162117 ],\n",
              "       [ 0.79994323],\n",
              "       [-1.38958222],\n",
              "       [-1.38958222],\n",
              "       [ 0.35876789],\n",
              "       [-1.38958222],\n",
              "       [ 0.60311115],\n",
              "       [-1.38958222],\n",
              "       [ 0.65031383],\n",
              "       [ 0.72528279],\n",
              "       [-1.38958222],\n",
              "       [ 0.72528279],\n",
              "       [ 0.9316788 ],\n",
              "       [ 0.4716841 ],\n",
              "       [-1.38958222],\n",
              "       [ 0.48093952],\n",
              "       [-1.38958222],\n",
              "       [ 0.50932283],\n",
              "       [-1.38958222],\n",
              "       [ 0.72528279],\n",
              "       [-1.38958222],\n",
              "       [ 0.5000674 ],\n",
              "       [ 0.64074989],\n",
              "       [ 0.55590848],\n",
              "       [-1.38958222],\n",
              "       [-1.38958222],\n",
              "       [ 0.71571885],\n",
              "       [-1.38958222],\n",
              "       [ 0.56547242],\n",
              "       [-1.38958222],\n",
              "       [-1.38958222],\n",
              "       [ 0.64074989],\n",
              "       [-1.38958222],\n",
              "       [ 0.86596527],\n",
              "       [ 0.37758726],\n",
              "       [ 0.49050346],\n",
              "       [-1.38958222],\n",
              "       [ 0.5281422 ],\n",
              "       [ 0.7906878 ],\n",
              "       [ 0.59354721],\n",
              "       [-1.38958222],\n",
              "       [-1.38958222],\n",
              "       [-1.38958222],\n",
              "       [ 0.86596527],\n",
              "       [ 0.25541562],\n",
              "       [ 0.33994852],\n",
              "       [ 0.92242338],\n",
              "       [ 0.70615491],\n",
              "       [ 0.37758726],\n",
              "       [ 0.83789048],\n",
              "       [ 0.49050346],\n",
              "       [ 0.57472785],\n",
              "       [-1.38958222],\n",
              "       [-1.38958222],\n",
              "       [ 0.88447613],\n",
              "       [ 0.70615491],\n",
              "       [ 0.70615491],\n",
              "       [ 0.71571885],\n",
              "       [-1.38958222],\n",
              "       [ 0.28379893],\n",
              "       [ 0.5281422 ],\n",
              "       [ 0.13355251],\n",
              "       [ 0.41522599],\n",
              "       [-1.38958222],\n",
              "       [ 0.77155992],\n",
              "       [ 0.49050346],\n",
              "       [-1.38958222],\n",
              "       [-1.38958222],\n",
              "       [ 0.84714591],\n",
              "       [ 0.57472785],\n",
              "       [ 0.82832654],\n",
              "       [ 0.86596527],\n",
              "       [ 0.65031383],\n",
              "       [ 0.76292152],\n",
              "       [-1.38958222],\n",
              "       [ 0.21777689],\n",
              "       [ 0.59354721],\n",
              "       [ 0.95080669],\n",
              "       [ 0.50932283],\n",
              "       [ 0.92242338],\n",
              "       [ 0.91285944],\n",
              "       [ 0.79994323],\n",
              "       [-1.38958222],\n",
              "       [ 0.65031383],\n",
              "       [ 0.44330079],\n",
              "       [-1.38958222],\n",
              "       [-1.38958222],\n",
              "       [ 0.74410216],\n",
              "       [ 0.84714591],\n",
              "       [ 0.11473314],\n",
              "       [ 0.92242338],\n",
              "       [-1.38958222],\n",
              "       [ 0.77155992],\n",
              "       [ 0.76292152],\n",
              "       [ 0.9316788 ],\n",
              "       [ 0.68733554],\n",
              "       [ 0.71571885],\n",
              "       [ 0.28379893],\n",
              "       [ 0.65895223],\n",
              "       [-1.38958222],\n",
              "       [ 0.63149446],\n",
              "       [ 0.91285944],\n",
              "       [-1.38958222],\n",
              "       [ 0.76292152],\n",
              "       [ 0.82832654],\n",
              "       [ 0.56547242],\n",
              "       [-1.38958222],\n",
              "       [-1.38958222],\n",
              "       [ 0.6126751 ],\n",
              "       [ 0.86596527],\n",
              "       [ 0.84714591],\n",
              "       [ 0.89404007],\n",
              "       [ 0.86596527],\n",
              "       [ 0.48093952],\n",
              "       [ 0.71571885],\n",
              "       [-1.38958222],\n",
              "       [ 0.66851617],\n",
              "       [ 0.46212015],\n",
              "       [-1.38958222],\n",
              "       [ 0.15237187],\n",
              "       [ 0.37758726],\n",
              "       [ 0.19001061],\n",
              "       [-1.38958222],\n",
              "       [ 0.7906878 ],\n",
              "       [ 0.39640662],\n",
              "       [ 0.99708382],\n",
              "       [-1.38958222],\n",
              "       [ 0.82832654],\n",
              "       [-1.38958222],\n",
              "       [ 0.49050346],\n",
              "       [ 0.55590848],\n",
              "       [ 0.41522599],\n",
              "       [-1.38958222],\n",
              "       [-0.84289501],\n",
              "       [ 0.73453821],\n",
              "       [ 0.83789048],\n",
              "       [-1.38958222],\n",
              "       [ 0.4716841 ],\n",
              "       [ 1.0442865 ],\n",
              "       [-1.38958222],\n",
              "       [ 0.57472785],\n",
              "       [ 0.97888148],\n",
              "       [-1.38958222],\n",
              "       [ 0.72528279],\n",
              "       [ 0.86596527],\n",
              "       [ 0.73453821],\n",
              "       [ 1.02546713],\n",
              "       [-1.38958222],\n",
              "       [ 0.76292152],\n",
              "       [-1.38958222],\n",
              "       [ 0.27454351],\n",
              "       [-1.38958222],\n",
              "       [ 0.62193052],\n",
              "       [ 0.71571885],\n",
              "       [ 0.88447613],\n",
              "       [ 0.85670985],\n",
              "       [ 0.56547242],\n",
              "       [ 0.77155992],\n",
              "       [-1.38958222],\n",
              "       [ 0.49050346],\n",
              "       [ 0.68733554],\n",
              "       [ 0.64074989],\n",
              "       [ 0.94124274],\n",
              "       [ 0.86596527],\n",
              "       [ 0.85670985],\n",
              "       [-1.38958222],\n",
              "       [ 0.92242338],\n",
              "       [ 0.60311115],\n",
              "       [ 0.85670985],\n",
              "       [ 0.46212015],\n",
              "       [ 0.26497957],\n",
              "       [ 0.96962605],\n",
              "       [ 0.74410216],\n",
              "       [ 0.80950717],\n",
              "       [-1.38958222],\n",
              "       [ 0.88447613],\n",
              "       [-0.79630936],\n",
              "       [-0.87127832],\n",
              "       [-1.38958222],\n",
              "       [-1.38958222],\n",
              "       [ 0.95080669],\n",
              "       [ 0.88447613],\n",
              "       [ 0.86596527],\n",
              "       [-1.38958222],\n",
              "       [ 0.82832654],\n",
              "       [-1.38958222],\n",
              "       [ 0.8187626 ],\n",
              "       [ 0.29336287],\n",
              "       [ 0.92242338],\n",
              "       [ 0.5000674 ],\n",
              "       [ 0.58429179],\n",
              "       [ 0.88447613],\n",
              "       [-1.38958222],\n",
              "       [-1.38958222],\n",
              "       [ 0.66851617],\n",
              "       [-1.38958222],\n",
              "       [ 0.77155992],\n",
              "       [-1.38958222],\n",
              "       [ 0.9316788 ],\n",
              "       [ 0.8187626 ],\n",
              "       [-1.38958222],\n",
              "       [-1.38958222],\n",
              "       [-1.38958222],\n",
              "       [ 0.83789048],\n",
              "       [ 0.91285944],\n",
              "       [ 0.96006211],\n",
              "       [ 0.37758726],\n",
              "       [-1.38958222],\n",
              "       [ 0.46212015],\n",
              "       [ 0.64074989],\n",
              "       [-1.38958222],\n",
              "       [ 0.3871512 ],\n",
              "       [-1.38958222],\n",
              "       [-1.38958222],\n",
              "       [-1.38958222],\n",
              "       [-1.38958222],\n",
              "       [ 0.86596527],\n",
              "       [-1.38958222],\n",
              "       [ 0.66851617],\n",
              "       [-1.38958222],\n",
              "       [ 0.70615491],\n",
              "       [ 0.67808011],\n",
              "       [ 0.40597057],\n",
              "       [ 0.60311115],\n",
              "       [-1.38958222],\n",
              "       [ 0.44330079],\n",
              "       [ 0.41522599],\n",
              "       [-1.38958222],\n",
              "       [ 0.88447613],\n",
              "       [-1.38958222],\n",
              "       [-1.38958222],\n",
              "       [ 0.78112386],\n",
              "       [-1.38958222],\n",
              "       [ 0.90360401],\n",
              "       [ 0.86596527],\n",
              "       [ 0.77155992],\n",
              "       [ 0.27454351],\n",
              "       [ 0.87552921],\n",
              "       [ 0.80950717],\n",
              "       [ 0.76292152],\n",
              "       [ 0.80950717],\n",
              "       [ 1.03503107],\n",
              "       [-1.38958222],\n",
              "       [ 0.32082064],\n",
              "       [ 0.46212015],\n",
              "       [ 0.48093952],\n",
              "       [ 0.51888677],\n",
              "       [-1.38958222],\n",
              "       [ 0.65895223],\n",
              "       [ 0.83789048],\n",
              "       [-1.38958222],\n",
              "       [ 0.44330079],\n",
              "       [ 0.85670985],\n",
              "       [ 0.63149446],\n",
              "       [ 0.88447613],\n",
              "       [ 0.65031383],\n",
              "       [ 0.69689948],\n",
              "       [-1.38958222],\n",
              "       [ 0.3871512 ],\n",
              "       [ 0.68733554],\n",
              "       [ 0.84714591],\n",
              "       [ 0.60311115],\n",
              "       [ 1.10105311],\n",
              "       [-1.38958222],\n",
              "       [-1.38958222],\n",
              "       [-1.38958222],\n",
              "       [-1.38958222],\n",
              "       [ 0.84714591],\n",
              "       [ 0.75335758],\n",
              "       [ 0.78112386],\n",
              "       [ 0.72528279],\n",
              "       [-1.38958222],\n",
              "       [ 0.65895223],\n",
              "       [ 0.6126751 ],\n",
              "       [ 0.5281422 ],\n",
              "       [ 0.75335758],\n",
              "       [-1.38958222],\n",
              "       [ 0.64074989],\n",
              "       [ 0.84714591],\n",
              "       [ 0.82832654],\n",
              "       [-1.38958222],\n",
              "       [-1.38958222],\n",
              "       [ 0.18075518],\n",
              "       [-1.38958222],\n",
              "       [ 0.56547242],\n",
              "       [-1.38958222],\n",
              "       [-1.38958222],\n",
              "       [ 0.80950717],\n",
              "       [-1.38958222],\n",
              "       [-1.38958222],\n",
              "       [ 1.0442865 ],\n",
              "       [ 0.5000674 ],\n",
              "       [ 0.73453821],\n",
              "       [-1.38958222],\n",
              "       [ 0.75335758],\n",
              "       [-1.38958222],\n",
              "       [ 0.41522599],\n",
              "       [-1.38958222],\n",
              "       [ 0.49050346],\n",
              "       [ 0.86596527],\n",
              "       [ 1.36359872],\n",
              "       [-1.38958222],\n",
              "       [-1.38958222],\n",
              "       [-1.38958222],\n",
              "       [-1.38958222],\n",
              "       [ 0.42478993],\n",
              "       [ 0.43373685],\n",
              "       [ 0.28379893],\n",
              "       [-1.38958222],\n",
              "       [ 0.82832654],\n",
              "       [-1.38958222],\n",
              "       [ 0.46212015],\n",
              "       [ 0.53770614],\n",
              "       [-1.38958222],\n",
              "       [-1.38958222],\n",
              "       [ 0.57472785],\n",
              "       [ 0.76292152],\n",
              "       [-1.38958222],\n",
              "       [ 0.84714591],\n",
              "       [-1.38958222],\n",
              "       [-1.38958222],\n",
              "       [ 0.89404007],\n",
              "       [-1.38958222],\n",
              "       [ 0.87552921],\n",
              "       [-1.38958222],\n",
              "       [-1.38958222],\n",
              "       [-1.38958222],\n",
              "       [ 0.58429179],\n",
              "       [ 0.87552921],\n",
              "       [ 0.7906878 ],\n",
              "       [ 0.51888677],\n",
              "       [ 0.65895223],\n",
              "       [ 0.54634454],\n",
              "       [ 0.90360401],\n",
              "       [ 0.87552921],\n",
              "       [ 0.71571885],\n",
              "       [-1.38958222],\n",
              "       [-1.38958222],\n",
              "       [ 0.7906878 ],\n",
              "       [ 0.84714591],\n",
              "       [-0.15737641],\n",
              "       [ 0.73453821],\n",
              "       [-1.38958222],\n",
              "       [ 0.73453821],\n",
              "       [ 0.3871512 ],\n",
              "       [-1.38958222],\n",
              "       [ 0.7906878 ],\n",
              "       [ 0.5000674 ],\n",
              "       [-1.38958222],\n",
              "       [ 0.78112386],\n",
              "       [ 0.82832654],\n",
              "       [ 0.70615491],\n",
              "       [ 1.13807482],\n",
              "       [-1.38958222],\n",
              "       [ 1.03503107],\n",
              "       [ 0.72528279],\n",
              "       [ 0.60311115],\n",
              "       [-1.38958222],\n",
              "       [ 0.7906878 ],\n",
              "       [-1.38958222],\n",
              "       [-1.38958222],\n",
              "       [ 0.33994852],\n",
              "       [ 0.96006211],\n",
              "       [ 0.62193052],\n",
              "       [-1.38958222],\n",
              "       [ 0.85670985],\n",
              "       [-1.38958222],\n",
              "       [-1.38958222],\n",
              "       [ 0.6126751 ],\n",
              "       [-1.38958222],\n",
              "       [ 0.66851617],\n",
              "       [ 0.83789048],\n",
              "       [-1.38958222],\n",
              "       [-1.38958222],\n",
              "       [ 0.83789048],\n",
              "       [ 0.76292152],\n",
              "       [-1.38958222],\n",
              "       [-0.98419453],\n",
              "       [ 0.64074989],\n",
              "       [-1.38958222],\n",
              "       [ 0.44330079],\n",
              "       [-1.38958222],\n",
              "       [-1.38958222],\n",
              "       [-1.38958222],\n",
              "       [ 0.96006211],\n",
              "       [ 0.49050346],\n",
              "       [ 0.4716841 ],\n",
              "       [ 0.41522599],\n",
              "       [ 0.95080669],\n",
              "       [-1.38958222],\n",
              "       [ 0.46212015],\n",
              "       [ 0.86596527],\n",
              "       [ 0.94124274],\n",
              "       [-1.38958222],\n",
              "       [ 0.65031383],\n",
              "       [-1.38958222],\n",
              "       [-1.38958222],\n",
              "       [ 1.33521541],\n",
              "       [-1.38958222],\n",
              "       [ 0.50932283],\n",
              "       [-1.38958222],\n",
              "       [ 2.40606828],\n",
              "       [ 0.72528279],\n",
              "       [ 0.67808011],\n",
              "       [ 0.50932283],\n",
              "       [ 0.91285944],\n",
              "       [-1.38958222],\n",
              "       [ 0.03976418],\n",
              "       [ 1.16645813],\n",
              "       [-1.38958222],\n",
              "       [ 0.65031383],\n",
              "       [-1.38958222],\n",
              "       [ 0.56547242],\n",
              "       [ 0.51888677],\n",
              "       [-1.38958222],\n",
              "       [ 0.68733554],\n",
              "       [ 0.70615491],\n",
              "       [-1.38958222],\n",
              "       [ 0.76292152],\n",
              "       [-1.38958222],\n",
              "       [ 0.89404007],\n",
              "       [ 0.3871512 ],\n",
              "       [ 0.62193052],\n",
              "       [ 0.40597057],\n",
              "       [ 0.55590848],\n",
              "       [ 0.89404007],\n",
              "       [ 0.84714591],\n",
              "       [ 0.37758726],\n",
              "       [ 0.40597057],\n",
              "       [ 0.6126751 ],\n",
              "       [-1.38958222],\n",
              "       [ 1.02546713],\n",
              "       [ 1.16645813],\n",
              "       [ 0.3871512 ],\n",
              "       [ 0.57472785],\n",
              "       [ 0.88447613],\n",
              "       [ 0.4716841 ],\n",
              "       [ 0.91285944],\n",
              "       [-1.61294652],\n",
              "       [ 0.88447613],\n",
              "       [ 0.9316788 ],\n",
              "       [-1.38958222],\n",
              "       [ 0.67808011],\n",
              "       [-1.38958222],\n",
              "       [ 0.04932812],\n",
              "       [ 0.64074989],\n",
              "       [ 0.3871512 ],\n",
              "       [ 0.92242338],\n",
              "       [-1.38958222],\n",
              "       [-1.38958222],\n",
              "       [-1.38958222],\n",
              "       [ 1.0442865 ],\n",
              "       [-1.38958222],\n",
              "       [-1.38958222],\n",
              "       [ 0.3871512 ],\n",
              "       [ 0.3026183 ],\n",
              "       [ 0.8187626 ],\n",
              "       [ 0.22734083],\n",
              "       [ 0.3871512 ],\n",
              "       [ 0.50932283],\n",
              "       [-0.53345525],\n",
              "       [ 0.58429179],\n",
              "       [ 0.80950717],\n",
              "       [ 0.40597057],\n",
              "       [-1.38958222],\n",
              "       [-1.38958222],\n",
              "       [-1.38958222],\n",
              "       [ 0.84714591],\n",
              "       [ 0.33994852],\n",
              "       [-1.38958222],\n",
              "       [ 0.75335758],\n",
              "       [-1.38958222],\n",
              "       [ 0.35876789],\n",
              "       [-1.38958222],\n",
              "       [ 0.69689948],\n",
              "       [ 0.12398857]])"
            ]
          },
          "metadata": {},
          "execution_count": 26
        }
      ]
    },
    {
      "cell_type": "code",
      "source": [
        "student_df['premium_pupil'] = student_df['premium_pupil'].fillna(2)\n",
        "student_df['premium_pupil'] = student_df['premium_pupil'].astype(int)\n",
        "is_premium = np.eye(3)[student_df['premium_pupil']]\n",
        "is_premium"
      ],
      "metadata": {
        "colab": {
          "base_uri": "https://localhost:8080/"
        },
        "id": "ZEyjXk0iMBkw",
        "outputId": "88a3d390-9353-4e41-d0a8-04008ebc6329"
      },
      "execution_count": null,
      "outputs": [
        {
          "output_type": "execute_result",
          "data": {
            "text/plain": [
              "array([[0., 0., 1.],\n",
              "       [0., 0., 1.],\n",
              "       [0., 0., 1.],\n",
              "       ...,\n",
              "       [0., 0., 1.],\n",
              "       [1., 0., 0.],\n",
              "       [1., 0., 0.]])"
            ]
          },
          "metadata": {},
          "execution_count": 27
        }
      ]
    },
    {
      "cell_type": "code",
      "source": [
        "# check if shape matches\n",
        "print(genders_onehot.shape)\n",
        "print(is_premium.shape)\n",
        "print(ages_norm.shape)"
      ],
      "metadata": {
        "colab": {
          "base_uri": "https://localhost:8080/"
        },
        "id": "TdfDuqAcLWua",
        "outputId": "8d4d4788-c65f-4240-d6f1-5e90ba35207c"
      },
      "execution_count": null,
      "outputs": [
        {
          "output_type": "stream",
          "name": "stdout",
          "text": [
            "(542, 3)\n",
            "(542, 3)\n",
            "(542, 1)\n"
          ]
        }
      ]
    },
    {
      "cell_type": "code",
      "source": [
        "student_metadata = torch.FloatTensor(np.concatenate((is_premium, genders_onehot, ages_norm), axis=1)).to(device)\n",
        "student_metadata"
      ],
      "metadata": {
        "colab": {
          "base_uri": "https://localhost:8080/"
        },
        "id": "OqQx9DgqMENU",
        "outputId": "012d80e0-ca3c-413e-82c5-d3aaa2783976"
      },
      "execution_count": null,
      "outputs": [
        {
          "output_type": "execute_result",
          "data": {
            "text/plain": [
              "tensor([[ 0.0000,  0.0000,  1.0000,  ...,  0.0000,  1.0000,  0.8660],\n",
              "        [ 0.0000,  0.0000,  1.0000,  ...,  1.0000,  0.0000,  1.2319],\n",
              "        [ 0.0000,  0.0000,  1.0000,  ...,  0.0000,  0.0000, -1.3896],\n",
              "        ...,\n",
              "        [ 0.0000,  0.0000,  1.0000,  ...,  1.0000,  0.0000, -1.3896],\n",
              "        [ 1.0000,  0.0000,  0.0000,  ...,  1.0000,  0.0000,  0.6969],\n",
              "        [ 1.0000,  0.0000,  0.0000,  ...,  1.0000,  0.0000,  0.1240]],\n",
              "       device='cuda:0')"
            ]
          },
          "metadata": {},
          "execution_count": 29
        }
      ]
    },
    {
      "cell_type": "markdown",
      "source": [
        "## Model"
      ],
      "metadata": {
        "id": "x5Pvp9xpJZCT"
      }
    },
    {
      "cell_type": "markdown",
      "source": [
        "### Embedder"
      ],
      "metadata": {
        "id": "fCMUfWPTHlp1"
      }
    },
    {
      "cell_type": "markdown",
      "source": [
        "we first make padding to each of the embedders to add length"
      ],
      "metadata": {
        "id": "27tVhxwqH4PM"
      }
    },
    {
      "cell_type": "code",
      "source": [
        "subjects_flat = [s.flatten() for s in subjects]\n",
        "max_length = max(len(s) for s in subjects_flat)\n",
        "constant = num_subject\n",
        "padded_subjects = [torch.nn.functional.pad(s, (0, max_length - len(s)), \"constant\", constant) for s in subjects_flat]\n",
        "combined_subjects = torch.stack(padded_subjects)"
      ],
      "metadata": {
        "id": "3UEmmMBLG7Qr"
      },
      "execution_count": null,
      "outputs": []
    },
    {
      "cell_type": "code",
      "source": [
        "combined_subjects.shape"
      ],
      "metadata": {
        "colab": {
          "base_uri": "https://localhost:8080/"
        },
        "id": "d4oEv67SIpXM",
        "outputId": "48d92843-cd2b-4ab4-9fd2-283a3d7d3307"
      },
      "execution_count": null,
      "outputs": [
        {
          "output_type": "execute_result",
          "data": {
            "text/plain": [
              "torch.Size([1774, 8])"
            ]
          },
          "metadata": {},
          "execution_count": 31
        }
      ]
    },
    {
      "cell_type": "markdown",
      "source": [
        "We perform a k-means cluster to determine the cluster each question should belong to, and train an embedder that embeds each question so that we can reduce dimension before adding it to the network"
      ],
      "metadata": {
        "id": "2RIsHYKwIshP"
      }
    },
    {
      "cell_type": "code",
      "source": [
        "from sklearn.cluster import KMeans\n",
        "km = KMeans(n_clusters=20)\n",
        "km.fit(question_matrix)\n",
        "labels = km.predict(question_matrix)\n",
        "labels_onehot = np.eye(20)[labels]\n",
        "labels_onehot.shape"
      ],
      "metadata": {
        "colab": {
          "base_uri": "https://localhost:8080/"
        },
        "id": "M5Qyls59Iqxi",
        "outputId": "bc29fbf2-1bd7-4205-df92-97f084cfb3b6"
      },
      "execution_count": null,
      "outputs": [
        {
          "output_type": "stream",
          "name": "stderr",
          "text": [
            "/usr/local/lib/python3.10/dist-packages/sklearn/cluster/_kmeans.py:870: FutureWarning: The default value of `n_init` will change from 10 to 'auto' in 1.4. Set the value of `n_init` explicitly to suppress the warning\n",
            "  warnings.warn(\n"
          ]
        },
        {
          "output_type": "execute_result",
          "data": {
            "text/plain": [
              "(1774, 20)"
            ]
          },
          "metadata": {},
          "execution_count": 32
        }
      ]
    },
    {
      "cell_type": "code",
      "source": [
        "labels_onehot = torch.tensor(labels_onehot).to(device)"
      ],
      "metadata": {
        "id": "B3Hn6aFsJ47U"
      },
      "execution_count": null,
      "outputs": []
    },
    {
      "cell_type": "code",
      "source": [
        "class EmbeddingTrainer(nn.Module):\n",
        "    def __init__(self, embed_dim):\n",
        "        super(EmbeddingTrainer, self).__init__()\n",
        "        self.embedder = nn.EmbeddingBag(num_subject+1, embed_dim)\n",
        "        self.linear = nn.Linear(embed_dim, 20)\n",
        "    def forward(self, input):\n",
        "\n",
        "        x = self.embedder(input)\n",
        "        x = self.linear(x)\n",
        "        x = F.softmax(x)\n",
        "        return x"
      ],
      "metadata": {
        "id": "RcNn7kYiJox9"
      },
      "execution_count": null,
      "outputs": []
    },
    {
      "cell_type": "markdown",
      "source": [
        "We want the embedder to \"overfit\" the questions as much as possible"
      ],
      "metadata": {
        "id": "ju7EIIRjJsyX"
      }
    },
    {
      "cell_type": "code",
      "source": [
        "def train_embedder(model, x, t, num_epoch, lr):\n",
        "    model.train()\n",
        "    optimizer = optim.SGD(model.parameters(), lr=lr)\n",
        "    loss_function = nn.CrossEntropyLoss()\n",
        "    for epoch in range(num_epoch):\n",
        "        # total_loss = 0\n",
        "        # for i in range(t.shape[0]):\n",
        "        optimizer.zero_grad()\n",
        "        y = model(x)\n",
        "        loss = loss_function(y,t)\n",
        "        loss.backward()\n",
        "        optimizer.step()\n",
        "        # total_loss += loss.item()\n",
        "        if epoch % 10000 == 0:\n",
        "            print(\"epoch: \", epoch, \"loss: \", loss.item())"
      ],
      "metadata": {
        "id": "IjsgiaA3JrsF"
      },
      "execution_count": null,
      "outputs": []
    },
    {
      "cell_type": "code",
      "source": [
        "trainer = EmbeddingTrainer(30).to(device)\n",
        "train_embedder(trainer, combined_subjects, labels_onehot, 100000, 0.1)"
      ],
      "metadata": {
        "colab": {
          "base_uri": "https://localhost:8080/"
        },
        "id": "PGYVCv3tKBbS",
        "outputId": "4c3b7960-5799-42e6-a2a4-55fa69009893"
      },
      "execution_count": null,
      "outputs": [
        {
          "output_type": "stream",
          "name": "stderr",
          "text": [
            "<ipython-input-34-5117ee6ab388>:10: UserWarning: Implicit dimension choice for softmax has been deprecated. Change the call to include dim=X as an argument.\n",
            "  x = F.softmax(x)\n"
          ]
        },
        {
          "output_type": "stream",
          "name": "stdout",
          "text": [
            "epoch:  0 loss:  2.9979003849266075\n",
            "epoch:  10000 loss:  2.704224347396257\n",
            "epoch:  20000 loss:  2.7015790557646295\n",
            "epoch:  30000 loss:  2.6009708841865735\n",
            "epoch:  40000 loss:  2.537744714146671\n",
            "epoch:  50000 loss:  2.480692201429451\n",
            "epoch:  60000 loss:  2.4777258168212994\n",
            "epoch:  70000 loss:  2.4293268091111466\n",
            "epoch:  80000 loss:  2.3750566405400617\n",
            "epoch:  90000 loss:  2.3711999584883956\n"
          ]
        }
      ]
    },
    {
      "cell_type": "code",
      "source": [
        "embedder = trainer.embedder\n",
        "embedder.zero_grad()"
      ],
      "metadata": {
        "id": "hHyzI-71KZIC"
      },
      "execution_count": null,
      "outputs": []
    },
    {
      "cell_type": "code",
      "source": [
        "embeddings = embedder(combined_subjects)\n",
        "embeddings = embeddings.detach()\n",
        "embeddings = embeddings.flatten()\n",
        "embeddings.shape"
      ],
      "metadata": {
        "colab": {
          "base_uri": "https://localhost:8080/"
        },
        "id": "3Htycd90KixE",
        "outputId": "ff9dc3f1-b209-4a33-ffd9-69e77feaf05b"
      },
      "execution_count": null,
      "outputs": [
        {
          "output_type": "execute_result",
          "data": {
            "text/plain": [
              "torch.Size([53220])"
            ]
          },
          "metadata": {},
          "execution_count": 38
        }
      ]
    },
    {
      "cell_type": "markdown",
      "source": [
        "### AutoEncoder"
      ],
      "metadata": {
        "id": "tUSWuPR7MgAu"
      }
    },
    {
      "cell_type": "code",
      "source": [
        "class AutoEncoder(nn.Module):\n",
        "    def __init__(self, num_questions, embeddings, student_metadata_size, embed_dim=20, p=0.5):\n",
        "        super(AutoEncoder, self).__init__()\n",
        "\n",
        "        self.num_questions = num_questions\n",
        "        self.embed_dim = embed_dim\n",
        "        self.p = p\n",
        "        self.student_metadata_size = student_metadata_size\n",
        "        self.embeddings = embeddings.clone().flatten().unsqueeze(0)\n",
        "\n",
        "        self.layers = nn.ModuleList([\n",
        "            nn.Linear(embed_dim * num_questions, 10000),\n",
        "            nn.ReLU(),\n",
        "            nn.Dropout(p=p),\n",
        "            nn.Linear(10000, 1000),\n",
        "            nn.ReLU(),\n",
        "            nn.Dropout(p=p),\n",
        "            nn.Linear(1000, 500),\n",
        "            nn.ReLU(),\n",
        "            nn.Dropout(p=p),\n",
        "            nn.Linear(500, 200),\n",
        "            nn.ReLU(),\n",
        "            nn.Linear(200 + self.student_metadata_size, 1000),\n",
        "            nn.ReLU(),\n",
        "            nn.Dropout(p=p),\n",
        "            nn.Linear(1000, num_questions),\n",
        "            nn.Sigmoid(),\n",
        "        ])\n",
        "\n",
        "    def forward(self, input, metadata):\n",
        "        x = self.embeddings * input.repeat_interleave(self.embed_dim,1)\n",
        "        for layer in self.layers[:11]:\n",
        "            x = layer(x)\n",
        "        x = torch.cat((x, metadata), axis=1)\n",
        "        for layer in self.layers[11:]:\n",
        "            x = layer(x)\n",
        "        return x"
      ],
      "metadata": {
        "id": "1jmEvJd6MJs-"
      },
      "execution_count": null,
      "outputs": []
    },
    {
      "cell_type": "code",
      "source": [
        "model = AutoEncoder(train_matrix.shape[1], embeddings, student_metadata.shape[1], embed_dim=30, p=0.5).to(device)\n",
        "\n",
        "lr=0.001\n",
        "num_epoch=43\n",
        "train(model, lr=lr, train_data=train_matrix, zero_train_data=zero_train_matrix, valid_data=valid_data,\n",
        "      num_epoch=num_epoch)"
      ],
      "metadata": {
        "colab": {
          "base_uri": "https://localhost:8080/"
        },
        "id": "GbYjFAoJVDeB",
        "outputId": "9a39ee8f-e1da-42c6-a90a-677ee1b278ba"
      },
      "execution_count": null,
      "outputs": [
        {
          "output_type": "stream",
          "name": "stdout",
          "text": [
            "Epoch: 0 \tTraining Cost: 14163.802794\t Valid Acc: 0.5433248659328253\n",
            "Epoch: 1 \tTraining Cost: 14100.699588\t Valid Acc: 0.5671747106971493\n",
            "Epoch: 2 \tTraining Cost: 14039.211732\t Valid Acc: 0.5839683883714366\n",
            "Epoch: 3 \tTraining Cost: 13969.321591\t Valid Acc: 0.594411515664691\n",
            "Epoch: 4 \tTraining Cost: 13883.965002\t Valid Acc: 0.6045723962743438\n",
            "Epoch: 5 \tTraining Cost: 13764.786181\t Valid Acc: 0.609793959920971\n",
            "Epoch: 6 \tTraining Cost: 13395.386335\t Valid Acc: 0.6162856336438047\n",
            "Epoch: 7 \tTraining Cost: 12567.112990\t Valid Acc: 0.6234829240756421\n",
            "Epoch: 8 \tTraining Cost: 12227.344996\t Valid Acc: 0.6277166243296641\n",
            "Epoch: 9 \tTraining Cost: 11945.083048\t Valid Acc: 0.6298334744566751\n",
            "Epoch: 10 \tTraining Cost: 11696.098851\t Valid Acc: 0.6308213378492803\n",
            "Epoch: 11 \tTraining Cost: 11496.293815\t Valid Acc: 0.630962461191081\n",
            "Epoch: 12 \tTraining Cost: 11367.244875\t Valid Acc: 0.6371718882303133\n",
            "Epoch: 13 \tTraining Cost: 11280.802003\t Valid Acc: 0.6398532317245272\n",
            "Epoch: 14 \tTraining Cost: 11254.175859\t Valid Acc: 0.6432401919277448\n",
            "Epoch: 15 \tTraining Cost: 11192.148516\t Valid Acc: 0.6447925486875529\n",
            "Epoch: 16 \tTraining Cost: 11146.049198\t Valid Acc: 0.6490262489415749\n",
            "Epoch: 17 \tTraining Cost: 11069.995910\t Valid Acc: 0.6507197290431838\n",
            "Epoch: 18 \tTraining Cost: 11017.783400\t Valid Acc: 0.6555179226644087\n",
            "Epoch: 19 \tTraining Cost: 10953.656674\t Valid Acc: 0.6598927462602314\n",
            "Epoch: 20 \tTraining Cost: 10883.801268\t Valid Acc: 0.6621507197290432\n",
            "Epoch: 21 \tTraining Cost: 10812.882166\t Valid Acc: 0.6663844199830652\n",
            "Epoch: 22 \tTraining Cost: 10746.742522\t Valid Acc: 0.6675134067174711\n",
            "Epoch: 23 \tTraining Cost: 10676.429849\t Valid Acc: 0.67499294383291\n",
            "Epoch: 24 \tTraining Cost: 10611.690681\t Valid Acc: 0.6756985605419137\n",
            "Epoch: 25 \tTraining Cost: 10515.613533\t Valid Acc: 0.6817668642393452\n",
            "Epoch: 26 \tTraining Cost: 10421.751715\t Valid Acc: 0.6844482077335591\n",
            "Epoch: 27 \tTraining Cost: 10318.025744\t Valid Acc: 0.6820491109229466\n",
            "Epoch: 28 \tTraining Cost: 10258.888641\t Valid Acc: 0.687694044594976\n",
            "Epoch: 29 \tTraining Cost: 10140.926677\t Valid Acc: 0.6893875246965848\n",
            "Epoch: 30 \tTraining Cost: 10061.674911\t Valid Acc: 0.694609088343212\n",
            "Epoch: 31 \tTraining Cost: 9949.712256\t Valid Acc: 0.6939034716342083\n",
            "Epoch: 32 \tTraining Cost: 9866.287173\t Valid Acc: 0.69616144510302\n",
            "Epoch: 33 \tTraining Cost: 9801.030953\t Valid Acc: 0.6951735817104149\n",
            "Epoch: 34 \tTraining Cost: 9732.223914\t Valid Acc: 0.6984194185718318\n",
            "Epoch: 35 \tTraining Cost: 9673.673773\t Valid Acc: 0.6992661586226362\n",
            "Epoch: 36 \tTraining Cost: 9595.298284\t Valid Acc: 0.6991250352808355\n",
            "Epoch: 37 \tTraining Cost: 9518.653213\t Valid Acc: 0.7033587355348575\n",
            "Epoch: 38 \tTraining Cost: 9459.041279\t Valid Acc: 0.7002540220152413\n",
            "Epoch: 39 \tTraining Cost: 9418.367341\t Valid Acc: 0.7039232289020604\n",
            "Epoch: 40 \tTraining Cost: 9371.437029\t Valid Acc: 0.6996895286480384\n",
            "Epoch: 41 \tTraining Cost: 9341.390840\t Valid Acc: 0.7053344623200677\n",
            "Epoch: 42 \tTraining Cost: 9289.306903\t Valid Acc: 0.7023708721422524\n"
          ]
        }
      ]
    },
    {
      "cell_type": "code",
      "source": [
        "evaluate_detailed(model, zero_train_matrix, test_data)"
      ],
      "metadata": {
        "colab": {
          "base_uri": "https://localhost:8080/"
        },
        "id": "P97Bg83YWLNv",
        "outputId": "8b0f494a-4626-4e4f-af4d-1dfbf21b8275"
      },
      "execution_count": null,
      "outputs": [
        {
          "output_type": "execute_result",
          "data": {
            "text/plain": [
              "{'accuracy': 0.696302592754364,\n",
              " 'precision': 0.7383694150161216,\n",
              " 'recall': 0.7593557555660825,\n",
              " 'F1_score': 0.7487155534796823,\n",
              " 'false_positives': 568,\n",
              " 'false_negatives': 508,\n",
              " 'true_positives': 1603,\n",
              " 'true_negatives': 864,\n",
              " 'total_positives': 2111,\n",
              " 'total_negatives': 1432}"
            ]
          },
          "metadata": {},
          "execution_count": 43
        }
      ]
    }
  ]
}
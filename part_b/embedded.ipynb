{
 "cells": [
  {
   "cell_type": "markdown",
   "id": "d7221be6-a4ee-4d24-9bc2-d4ec7b06da08",
   "metadata": {},
   "source": [
    "## Load training datas"
   ]
  },
  {
   "cell_type": "markdown",
   "id": "0db99864-d3f6-4ecf-a815-d072a6d78645",
   "metadata": {},
   "source": [
    "### Imports"
   ]
  },
  {
   "cell_type": "code",
   "execution_count": 1,
   "id": "6099145f-def8-4fdd-a51b-f7c2ae265fed",
   "metadata": {},
   "outputs": [
    {
     "data": {
      "text/plain": [
       "['question_meta.csv',\n",
       " 'student_meta.csv',\n",
       " 'subject_meta.csv',\n",
       " 'test_data.csv',\n",
       " 'train_data.csv',\n",
       " 'train_sparse.npz',\n",
       " 'valid_data.csv',\n",
       " '.ipynb_checkpoints']"
      ]
     },
     "execution_count": 1,
     "metadata": {},
     "output_type": "execute_result"
    }
   ],
   "source": [
    "base_dir = '/home/alwyn/Developer/ut/CSC311H1/csc311-project/'\n",
    "starter_code_dir = base_dir + 'part_a/'\n",
    "data_dir = base_dir + 'data/'\n",
    "import os\n",
    "os.listdir(base_dir)\n",
    "os.listdir(starter_code_dir)\n",
    "os.listdir(data_dir)"
   ]
  },
  {
   "cell_type": "code",
   "execution_count": 2,
   "id": "ccfa4c2d-56a0-4c91-a68d-355a4bbc60ee",
   "metadata": {},
   "outputs": [],
   "source": [
    "import sys\n",
    "sys.path.append(base_dir)\n",
    "sys.path.append(data_dir)"
   ]
  },
  {
   "cell_type": "code",
   "execution_count": 3,
   "id": "e3ef7137-29af-4083-ac9b-01bd285a5aef",
   "metadata": {},
   "outputs": [],
   "source": [
    "from utils import *\n",
    "from torch.autograd import Variable\n",
    "\n",
    "import torch.nn as nn\n",
    "import torch.nn.functional as F\n",
    "import torch.optim as optim\n",
    "import torch.utils.data\n",
    "\n",
    "import numpy as np\n",
    "import torch\n"
   ]
  },
  {
   "cell_type": "code",
   "execution_count": 4,
   "id": "eb1f34eb-3805-4a6a-b4bf-df274c2a3441",
   "metadata": {},
   "outputs": [],
   "source": [
    "import matplotlib.pyplot as plt"
   ]
  },
  {
   "cell_type": "code",
   "execution_count": 5,
   "id": "be8abe5a-c36d-4b48-80ce-e11f4066a97f",
   "metadata": {},
   "outputs": [
    {
     "name": "stdout",
     "output_type": "stream",
     "text": [
      "cuda\n"
     ]
    }
   ],
   "source": [
    "device = torch.device('cuda' if torch.cuda.is_available() else 'cpu')\n",
    "print(device)"
   ]
  },
  {
   "cell_type": "code",
   "execution_count": 6,
   "id": "3ddf74b5-4cff-4be2-80d4-7bf3bddf54c4",
   "metadata": {},
   "outputs": [],
   "source": [
    "import tqdm\n",
    "import math"
   ]
  },
  {
   "cell_type": "code",
   "execution_count": 7,
   "id": "0137dddb-b442-46d7-9cd9-2bb9fd317fc0",
   "metadata": {},
   "outputs": [],
   "source": [
    "import gc"
   ]
  },
  {
   "cell_type": "markdown",
   "id": "cf643075-34d2-4866-a5fd-04f6ab0bb219",
   "metadata": {},
   "source": [
    "### Original training data"
   ]
  },
  {
   "cell_type": "code",
   "execution_count": 8,
   "id": "b0789a04-a937-4818-aec1-16af7e85835a",
   "metadata": {},
   "outputs": [],
   "source": [
    "def load_data(base_path=\"../data\"):\n",
    "    \"\"\" Load the data in PyTorch Tensor.\n",
    "\n",
    "    :return: (zero_train_matrix, train_data, valid_data, test_data)\n",
    "        WHERE:\n",
    "        zero_train_matrix: 2D sparse matrix where missing entries are\n",
    "        filled with 0.\n",
    "        train_data: 2D sparse matrix\n",
    "        valid_data: A dictionary {user_id: list,\n",
    "        user_id: list, is_correct: list}\n",
    "        test_data: A dictionary {user_id: list,\n",
    "        user_id: list, is_correct: list}\n",
    "    \"\"\"\n",
    "    train_matrix = load_train_sparse(base_path).toarray()\n",
    "    valid_data = load_valid_csv(base_path)\n",
    "    test_data = load_public_test_csv(base_path)\n",
    "\n",
    "    zero_train_matrix = train_matrix.copy()\n",
    "    # Fill in the missing entries to 0.\n",
    "    zero_train_matrix[np.isnan(train_matrix)] = 0\n",
    "    # Change to Float Tensor for PyTorch.\n",
    "    zero_train_matrix = torch.FloatTensor(zero_train_matrix)\n",
    "    train_matrix = torch.FloatTensor(train_matrix)\n",
    "\n",
    "    return zero_train_matrix, train_matrix, valid_data, test_data"
   ]
  },
  {
   "cell_type": "code",
   "execution_count": 9,
   "id": "602f04f0-513d-484b-a50a-6ee1d411543f",
   "metadata": {},
   "outputs": [],
   "source": [
    "zero_train_matrix, train_matrix, valid_data, test_data = load_data(data_dir)\n",
    "train_matrix_gpu = train_matrix.to(device)\n",
    "zero_train_matrix_gpu = zero_train_matrix.to(device)"
   ]
  },
  {
   "cell_type": "markdown",
   "id": "6170b4dd-aeb4-4463-93ae-f97346a7e8d3",
   "metadata": {},
   "source": [
    "### Question Metadata"
   ]
  },
  {
   "cell_type": "code",
   "execution_count": 10,
   "id": "1dc66723-656d-4481-b14d-5b7602ca0418",
   "metadata": {},
   "outputs": [],
   "source": [
    "import pandas as pd\n",
    "import json"
   ]
  },
  {
   "cell_type": "markdown",
   "id": "c04ca98e-ff0a-4470-846e-69f569c90f18",
   "metadata": {},
   "source": [
    "get the number of questions and number of subjects, make a question matrix such that the i'th question is in the j'th subject iff `question_matrix[i][j]==1`"
   ]
  },
  {
   "cell_type": "code",
   "execution_count": 11,
   "id": "75191baa-ecdf-439e-8faf-5233495f71ec",
   "metadata": {},
   "outputs": [],
   "source": [
    "question_df = pd.read_csv(data_dir + 'question_meta.csv')\n",
    "num_questions = question_df.shape[0]\n",
    "subject_df = pd.read_csv(data_dir + 'subject_meta.csv')\n",
    "num_subjects = subject_df.shape[0]\n",
    "question_matrix = np.zeros((num_questions, num_subjects), dtype=int)\n",
    "for _, row in question_df.iterrows():\n",
    "    li = json.loads(row.subject_id)\n",
    "    for i in li:\n",
    "        question_matrix[row.question_id, i] = 1"
   ]
  },
  {
   "cell_type": "code",
   "execution_count": 12,
   "id": "a430f0a9-de83-4ec0-9567-3b95383e278d",
   "metadata": {},
   "outputs": [
    {
     "data": {
      "text/plain": [
       "(1774, 388)"
      ]
     },
     "execution_count": 12,
     "metadata": {},
     "output_type": "execute_result"
    }
   ],
   "source": [
    "question_matrix.shape"
   ]
  },
  {
   "cell_type": "markdown",
   "id": "175b35b8-91c1-409a-aac7-c7ff71d7df20",
   "metadata": {},
   "source": [
    "Clean the data further, remove all the columns of `question_matrix` that consists of only 1's or 0's"
   ]
  },
  {
   "cell_type": "code",
   "execution_count": 13,
   "id": "6e67c047-aa05-41c8-ad31-770825c7dfc5",
   "metadata": {},
   "outputs": [
    {
     "data": {
      "text/plain": [
       "(1774, 288)"
      ]
     },
     "execution_count": 13,
     "metadata": {},
     "output_type": "execute_result"
    }
   ],
   "source": [
    "question_matrix = question_matrix[:, ~((question_matrix == 1).all(axis=0) | (question_matrix == 0).all(axis=0))]\n",
    "question_matrix.shape"
   ]
  },
  {
   "cell_type": "code",
   "execution_count": 14,
   "id": "3ff5e6e3-dd4b-4912-98bf-9d4715f4ac4e",
   "metadata": {},
   "outputs": [
    {
     "data": {
      "text/plain": [
       "288"
      ]
     },
     "execution_count": 14,
     "metadata": {},
     "output_type": "execute_result"
    }
   ],
   "source": [
    "num_subject = question_matrix.shape[1]\n",
    "num_subject"
   ]
  },
  {
   "cell_type": "code",
   "execution_count": 15,
   "id": "d92bc72b-dbe1-4ce1-be67-81fc4780f5cb",
   "metadata": {},
   "outputs": [
    {
     "data": {
      "text/plain": [
       "(array([   0,    0,    0, ..., 1773, 1773, 1773]),\n",
       " array([ 37,  41, 112, ...,   0,   1,  89]))"
      ]
     },
     "execution_count": 15,
     "metadata": {},
     "output_type": "execute_result"
    }
   ],
   "source": [
    "non_zero = question_matrix.nonzero()\n",
    "non_zero"
   ]
  },
  {
   "cell_type": "markdown",
   "id": "3e0b06a3-89ee-4086-b506-4e9b5b00b800",
   "metadata": {},
   "source": [
    "Make the subjects of each quesion in the form of a list of `torch.LongTensor` so that we can put each into a `EmbeddingBag` in our nn"
   ]
  },
  {
   "cell_type": "code",
   "execution_count": 16,
   "id": "cb75c08d-2057-4ebb-8a98-315c77cf1042",
   "metadata": {},
   "outputs": [
    {
     "data": {
      "text/plain": [
       "[tensor([[ 37,  41, 112]]),\n",
       " tensor([[ 16,  22, 197]]),\n",
       " tensor([[  0,  89, 137]]),\n",
       " tensor([[  0,   7, 154]]),\n",
       " tensor([[16, 31, 93]])]"
      ]
     },
     "execution_count": 16,
     "metadata": {},
     "output_type": "execute_result"
    }
   ],
   "source": [
    "non_zero_row, non_zero_col = non_zero\n",
    "subjects = []\n",
    "for i in range(num_questions):\n",
    "    subjects.append(torch.LongTensor(non_zero_col[non_zero_row == i]).unsqueeze(0))\n",
    "subjects[:5]"
   ]
  },
  {
   "cell_type": "code",
   "execution_count": 17,
   "id": "fbd71529-50d3-4e16-876a-6e335ec4dec9",
   "metadata": {},
   "outputs": [
    {
     "data": {
      "text/plain": [
       "[tensor([[ 37,  41, 112]], device='cuda:0'),\n",
       " tensor([[ 16,  22, 197]], device='cuda:0'),\n",
       " tensor([[  0,  89, 137]], device='cuda:0'),\n",
       " tensor([[  0,   7, 154]], device='cuda:0'),\n",
       " tensor([[16, 31, 93]], device='cuda:0')]"
      ]
     },
     "execution_count": 17,
     "metadata": {},
     "output_type": "execute_result"
    }
   ],
   "source": [
    "subjects_gpu = [t.to(device) for t in subjects]\n",
    "subjects_gpu[:5]"
   ]
  },
  {
   "cell_type": "markdown",
   "id": "300f28ae-98c3-470c-b165-9077ac001dcb",
   "metadata": {},
   "source": [
    "This output should contain all the subjects from the csv, except the subjects where all the questions are in, and the indices should be changed since all-0 columns are also dropped"
   ]
  },
  {
   "cell_type": "markdown",
   "id": "0342383c-105f-45b4-8a4c-8605bd1b0873",
   "metadata": {},
   "source": [
    "### Student Metadata"
   ]
  },
  {
   "cell_type": "code",
   "execution_count": 18,
   "id": "956c951e-ec62-4d3d-9d19-952975382fe2",
   "metadata": {},
   "outputs": [
    {
     "data": {
      "text/html": [
       "<div>\n",
       "<style scoped>\n",
       "    .dataframe tbody tr th:only-of-type {\n",
       "        vertical-align: middle;\n",
       "    }\n",
       "\n",
       "    .dataframe tbody tr th {\n",
       "        vertical-align: top;\n",
       "    }\n",
       "\n",
       "    .dataframe thead th {\n",
       "        text-align: right;\n",
       "    }\n",
       "</style>\n",
       "<table border=\"1\" class=\"dataframe\">\n",
       "  <thead>\n",
       "    <tr style=\"text-align: right;\">\n",
       "      <th></th>\n",
       "      <th>gender</th>\n",
       "      <th>data_of_birth</th>\n",
       "      <th>premium_pupil</th>\n",
       "    </tr>\n",
       "    <tr>\n",
       "      <th>user_id</th>\n",
       "      <th></th>\n",
       "      <th></th>\n",
       "      <th></th>\n",
       "    </tr>\n",
       "  </thead>\n",
       "  <tbody>\n",
       "    <tr>\n",
       "      <th>66</th>\n",
       "      <td>1</td>\n",
       "      <td>2002-12-01 00:00:00.000</td>\n",
       "      <td>NaN</td>\n",
       "    </tr>\n",
       "    <tr>\n",
       "      <th>447</th>\n",
       "      <td>2</td>\n",
       "      <td>NaN</td>\n",
       "      <td>NaN</td>\n",
       "    </tr>\n",
       "    <tr>\n",
       "      <th>422</th>\n",
       "      <td>1</td>\n",
       "      <td>2006-08-01 00:00:00.000</td>\n",
       "      <td>NaN</td>\n",
       "    </tr>\n",
       "    <tr>\n",
       "      <th>302</th>\n",
       "      <td>2</td>\n",
       "      <td>2009-07-01 00:00:00.000</td>\n",
       "      <td>0.0</td>\n",
       "    </tr>\n",
       "    <tr>\n",
       "      <th>361</th>\n",
       "      <td>1</td>\n",
       "      <td>NaN</td>\n",
       "      <td>NaN</td>\n",
       "    </tr>\n",
       "    <tr>\n",
       "      <th>...</th>\n",
       "      <td>...</td>\n",
       "      <td>...</td>\n",
       "      <td>...</td>\n",
       "    </tr>\n",
       "    <tr>\n",
       "      <th>155</th>\n",
       "      <td>1</td>\n",
       "      <td>2010-12-01 00:00:00.000</td>\n",
       "      <td>0.0</td>\n",
       "    </tr>\n",
       "    <tr>\n",
       "      <th>54</th>\n",
       "      <td>2</td>\n",
       "      <td>2007-05-01 00:00:00.000</td>\n",
       "      <td>NaN</td>\n",
       "    </tr>\n",
       "    <tr>\n",
       "      <th>511</th>\n",
       "      <td>2</td>\n",
       "      <td>2006-04-01 00:00:00.000</td>\n",
       "      <td>0.0</td>\n",
       "    </tr>\n",
       "    <tr>\n",
       "      <th>185</th>\n",
       "      <td>2</td>\n",
       "      <td>2010-08-01 00:00:00.000</td>\n",
       "      <td>NaN</td>\n",
       "    </tr>\n",
       "    <tr>\n",
       "      <th>249</th>\n",
       "      <td>2</td>\n",
       "      <td>NaN</td>\n",
       "      <td>NaN</td>\n",
       "    </tr>\n",
       "  </tbody>\n",
       "</table>\n",
       "<p>542 rows × 3 columns</p>\n",
       "</div>"
      ],
      "text/plain": [
       "         gender            data_of_birth  premium_pupil\n",
       "user_id                                                \n",
       "66            1  2002-12-01 00:00:00.000            NaN\n",
       "447           2                      NaN            NaN\n",
       "422           1  2006-08-01 00:00:00.000            NaN\n",
       "302           2  2009-07-01 00:00:00.000            0.0\n",
       "361           1                      NaN            NaN\n",
       "...         ...                      ...            ...\n",
       "155           1  2010-12-01 00:00:00.000            0.0\n",
       "54            2  2007-05-01 00:00:00.000            NaN\n",
       "511           2  2006-04-01 00:00:00.000            0.0\n",
       "185           2  2010-08-01 00:00:00.000            NaN\n",
       "249           2                      NaN            NaN\n",
       "\n",
       "[542 rows x 3 columns]"
      ]
     },
     "execution_count": 18,
     "metadata": {},
     "output_type": "execute_result"
    }
   ],
   "source": [
    "student_df = pd.read_csv(data_dir + 'student_meta.csv', index_col='user_id')\n",
    "student_df"
   ]
  },
  {
   "cell_type": "code",
   "execution_count": 19,
   "id": "cabe22aa-dfa2-4f8a-980b-d43ea8792f56",
   "metadata": {},
   "outputs": [
    {
     "data": {
      "text/plain": [
       "tensor([1, 2, 1, 2, 1, 1, 2, 2, 0, 1, 2, 1, 2, 2, 1, 1, 2, 1, 1, 2, 1, 1, 2, 2,\n",
       "        0, 1, 2, 2, 1, 0, 2, 1, 1, 2, 2, 1, 1, 0, 2, 1, 1, 0, 1, 0, 2, 2, 2, 2,\n",
       "        0, 1, 2, 1, 1, 2, 1, 2, 1, 1, 0, 1, 1, 0, 0, 1, 1, 2, 1, 1, 2, 1, 0, 1,\n",
       "        1, 1, 1, 1, 0, 0, 1, 1, 1, 2, 2, 1, 2, 1, 2, 2, 2, 1, 1, 0, 0, 1, 1, 2,\n",
       "        2, 1, 2, 1, 1, 2, 2, 1, 0, 2, 1, 1, 1, 2, 2, 0, 1, 2, 1, 1, 2, 0, 1, 2,\n",
       "        2, 2, 1, 0, 0, 1, 1, 1, 1, 2, 2, 0, 1, 1, 2, 1, 2, 2, 2, 1, 2, 2, 1, 2,\n",
       "        2, 2, 0, 1, 1, 0, 2, 0, 2, 0, 1, 1, 0, 1, 2, 2, 2, 1, 0, 1, 2, 2, 1, 1,\n",
       "        1, 2, 0, 1, 1, 2, 1, 0, 1, 2, 1, 2, 1, 1, 2, 0, 0, 2, 0, 1, 1, 2, 1, 2,\n",
       "        0, 0, 0, 0, 0, 0, 0, 0, 2, 0, 1, 2, 2, 2, 1, 1, 2, 1, 2, 1, 1, 2, 1, 2,\n",
       "        1, 0, 2, 2, 2, 1, 1, 2, 0, 2, 1, 0, 1, 2, 2, 1, 1, 1, 2, 0, 1, 0, 0, 0,\n",
       "        2, 1, 1, 1, 2, 2, 2, 1, 2, 2, 0, 2, 0, 1, 1, 2, 2, 1, 1, 1, 0, 1, 1, 2,\n",
       "        1, 2, 1, 1, 1, 0, 1, 0, 2, 1, 0, 0, 1, 1, 2, 0, 2, 0, 2, 1, 0, 1, 0, 1,\n",
       "        0, 1, 2, 2, 0, 0, 1, 0, 1, 1, 0, 0, 0, 2, 2, 2, 2, 2, 2, 1, 2, 1, 2, 2,\n",
       "        0, 1, 2, 2, 2, 0, 2, 1, 1, 2, 2, 2, 0, 0, 2, 1, 0, 1, 2, 0, 0, 2, 2, 2,\n",
       "        2, 2, 1, 1, 1, 2, 2, 0, 1, 1, 0, 1, 2, 0, 1, 2, 0, 1, 1, 1, 1, 1, 0, 2,\n",
       "        1, 2, 2, 1, 1, 1, 0, 1, 1, 1, 2, 2, 1, 1, 1, 2, 2, 1, 0, 1, 2, 2, 0, 1,\n",
       "        0, 2, 2, 2, 1, 2, 0, 1, 1, 1, 1, 1, 1, 1, 2, 2, 1, 1, 1, 1, 2, 2, 2, 1,\n",
       "        2, 2, 0, 2, 0, 0, 1, 2, 1, 2, 1, 2, 2, 0, 0, 0, 2, 2, 2, 2, 1, 2, 1, 0,\n",
       "        0, 2, 1, 2, 1, 0, 0, 0, 1, 1, 2, 1, 1, 2, 2, 0, 1, 1, 1, 1, 2, 2, 1, 1,\n",
       "        2, 1, 2, 1, 2, 1, 1, 1, 0, 1, 2, 0, 2, 0, 2, 1, 2, 1, 2, 2, 0, 1, 0, 1,\n",
       "        2, 1, 2, 1, 1, 0, 2, 1, 2, 2, 1, 1, 1, 1, 2, 2, 0, 0, 0, 1, 1, 1, 1, 0,\n",
       "        1, 1, 1, 2, 0, 2, 2, 2, 1, 0, 2, 0, 0, 1, 0, 2, 0, 1, 2, 2, 2, 1, 1, 0,\n",
       "        0, 2, 2, 1, 2, 2, 1, 2, 1, 1, 2, 2, 2, 2])"
      ]
     },
     "execution_count": 19,
     "metadata": {},
     "output_type": "execute_result"
    }
   ],
   "source": [
    "genders = torch.tensor(student_df['gender'].to_numpy())\n",
    "genders"
   ]
  },
  {
   "cell_type": "markdown",
   "id": "32a4d644-8a32-46b5-a29f-8f8030c3ddf3",
   "metadata": {},
   "source": [
    "## Define network"
   ]
  },
  {
   "cell_type": "code",
   "execution_count": 20,
   "id": "bb7be858-65a7-49c4-b527-892d7410a495",
   "metadata": {},
   "outputs": [],
   "source": [
    "def evaluate(model, subjects, train_data, valid_data):\n",
    "    \"\"\" Evaluate the valid_data on the current model.\n",
    "\n",
    "    :param model: Module\n",
    "    :param train_data: 2D FloatTensor\n",
    "    :param valid_data: A dictionary {user_id: list,\n",
    "    question_id: list, is_correct: list}\n",
    "    :return: float\n",
    "    \"\"\"\n",
    "    # Tell PyTorch you are evaluating the model.\n",
    "    print(\"validating\", end=\" \")\n",
    "    model.eval()\n",
    "\n",
    "    total = 0\n",
    "    correct = 0\n",
    "\n",
    "    for i, u in enumerate(valid_data[\"user_id\"]):\n",
    "        # print(i, end=\" \")\n",
    "        inputs = Variable(train_data[u]).unsqueeze(0)\n",
    "        output = model(subjects, inputs)\n",
    "\n",
    "        guess = output[0][valid_data[\"question_id\"][i]].item() >= 0.5\n",
    "        if guess == valid_data[\"is_correct\"][i]:\n",
    "            correct += 1\n",
    "        total += 1\n",
    "    return correct / float(total)"
   ]
  },
  {
   "cell_type": "code",
   "execution_count": 21,
   "id": "c4bfd25b-cb64-45a3-85da-a343967f6046",
   "metadata": {},
   "outputs": [],
   "source": [
    "def train(model, lr, subjects, train_data, zero_train_data, valid_data, num_epoch, batch_size):\n",
    "    # assert len(subjects) == train_data.shape[1]\n",
    "    # assert (zero_train_data.shape == train_data.shape).all()\n",
    "\n",
    "    model.train()\n",
    "\n",
    "    optimizer = optim.SGD(model.parameters(), lr=lr)\n",
    "    num_iter = math.ceil(train_data.shape[0] / batch_size)\n",
    "    \n",
    "    train_losses = []\n",
    "    valid_accs = []\n",
    "    for epoch in range(num_epoch):\n",
    "        print(\"starting epoch \", epoch)\n",
    "        indices = torch.randperm(train_data.shape[0])\n",
    "        train_loss = 0.\n",
    "        print(\"at batch: \")\n",
    "        for i in range(num_iter):\n",
    "            if i % 10 == 0:\n",
    "                print(i, end=\" \")\n",
    "            start = i * batch_size\n",
    "            end = start + batch_size\n",
    "            sub_indices = indices[start:end]\n",
    "            \n",
    "            input = Variable(zero_train_data[sub_indices])\n",
    "            target = input.clone()\n",
    "\n",
    "            optimizer.zero_grad()\n",
    "            output = model.forward(subjects, input)\n",
    "            \n",
    "            mask = torch.isnan(zero_train_data[sub_indices])\n",
    "            target[mask] = output[mask]\n",
    "\n",
    "            loss = F.mse_loss(output, target, reduction=\"mean\")\n",
    "            loss.backward()\n",
    "\n",
    "            train_loss += loss.item()\n",
    "            optimizer.step()\n",
    "        # valid_acc = 0\n",
    "        valid_acc = evaluate(model, subjects, zero_train_data, valid_data)\n",
    "        print(\"\\nEpoch: {} \\tTraining Cost: {:.6f}\\t \"\n",
    "              \"Valid Acc: {}\".format(epoch, train_loss, valid_acc))\n",
    "        train_losses.append(train_loss)\n",
    "        valid_accs.append(valid_acc)\n",
    "        \n",
    "    x = list(range(num_epoch))\n",
    "    fig, ax = plt.subplots(1, 2, figsize=(12,5))\n",
    "    ax[0].plot(x, train_losses)\n",
    "    ax[0].set_title(\"Training Loss\")\n",
    "    ax[1].plot(x, valid_accs)\n",
    "    ax[1].set_title(\"Validation\")\n",
    "    plt.tight_layout()\n",
    "    plt.show()\n",
    "    print(\"highest valid acc: \", np.max(valid_accs), \" in epoch: \", np.argmax(valid_accs))\n",
    "    print(\"lowest training err: \", np.min(train_losses), \" in epoch \", np.argmin(train_losses))"
   ]
  },
  {
   "cell_type": "code",
   "execution_count": 22,
   "id": "5cd5a2c9-15c9-4414-9250-b1c4bfd049bb",
   "metadata": {},
   "outputs": [],
   "source": [
    "class EmbeddedAutoEncoder(nn.Module):\n",
    "    def __init__(self, num_questions, num_subjects, embed_dim=100, p=0.5):\n",
    "        super(EmbeddedAutoEncoder, self).__init__()\n",
    "        \n",
    "        self.num_subjects = num_subjects\n",
    "        self.num_questions = num_questions\n",
    "        self.embed_dim = embed_dim\n",
    "        self.p = p\n",
    "\n",
    "        self.embedder = nn.EmbeddingBag(num_subjects, embed_dim, mode=\"mean\")\n",
    "\n",
    "        self.layers = nn.ModuleList([\n",
    "            nn.Linear(embed_dim * num_questions, 10000),\n",
    "            nn.ReLU(),\n",
    "            nn.Linear(10000, 2000),\n",
    "            nn.ReLU(),\n",
    "            nn.Linear(2000, 1000),\n",
    "            nn.ReLU(),\n",
    "            nn.Dropout(p=p),\n",
    "            nn.Linear(1000, 500),\n",
    "            nn.ReLU(),\n",
    "            nn.Dropout(p=p),\n",
    "            nn.Linear(500, 200),\n",
    "            nn.ReLU(),\n",
    "            nn.Linear(200, 200),\n",
    "            nn.ReLU(),\n",
    "            nn.Dropout(p=p),\n",
    "            nn.Linear(200, 500),\n",
    "            nn.ReLU(),\n",
    "            nn.Dropout(p=p),\n",
    "            nn.Linear(500, 1000),\n",
    "            nn.ReLU(),\n",
    "            nn.Linear(1000, num_questions),\n",
    "            nn.Sigmoid(),\n",
    "        ])\n",
    "\n",
    "    def forward(self, subjects, train_data):\n",
    "        embeddings = []\n",
    "        for s in subjects:\n",
    "            embeddings.append(self.embedder(s))\n",
    "        x = torch.cat(embeddings, axis=-1)\n",
    "        x = x * train_data.repeat_interleave(self.embed_dim,1)\n",
    "        for layer in self.layers:\n",
    "            x = layer(x)\n",
    "        return x"
   ]
  },
  {
   "cell_type": "code",
   "execution_count": 57,
   "id": "28e77b95-652b-4632-9449-7390829f46dd",
   "metadata": {
    "scrolled": true
   },
   "outputs": [
    {
     "name": "stdout",
     "output_type": "stream",
     "text": [
      "starting epoch  0\n",
      "at batch: \n",
      "0 10 20 "
     ]
    },
    {
     "ename": "KeyboardInterrupt",
     "evalue": "",
     "output_type": "error",
     "traceback": [
      "\u001b[0;31m---------------------------------------------------------------------------\u001b[0m",
      "\u001b[0;31mKeyboardInterrupt\u001b[0m                         Traceback (most recent call last)",
      "Cell \u001b[0;32mIn[57], line 6\u001b[0m\n\u001b[1;32m      4\u001b[0m num_epoch\u001b[38;5;241m=\u001b[39m\u001b[38;5;241m100\u001b[39m\n\u001b[1;32m      5\u001b[0m batch_size\u001b[38;5;241m=\u001b[39m\u001b[38;5;241m10\u001b[39m\n\u001b[0;32m----> 6\u001b[0m \u001b[43mtrain\u001b[49m\u001b[43m(\u001b[49m\u001b[43mmodel\u001b[49m\u001b[43m,\u001b[49m\u001b[43m \u001b[49m\u001b[43mlr\u001b[49m\u001b[38;5;241;43m=\u001b[39;49m\u001b[43mlr\u001b[49m\u001b[43m,\u001b[49m\u001b[43m \u001b[49m\u001b[43msubjects\u001b[49m\u001b[38;5;241;43m=\u001b[39;49m\u001b[43msubjects_gpu\u001b[49m\u001b[43m,\u001b[49m\u001b[43m \u001b[49m\u001b[43mtrain_data\u001b[49m\u001b[38;5;241;43m=\u001b[39;49m\u001b[43mtrain_matrix_gpu\u001b[49m\u001b[43m,\u001b[49m\u001b[43m \u001b[49m\u001b[43mzero_train_data\u001b[49m\u001b[38;5;241;43m=\u001b[39;49m\u001b[43mzero_train_matrix_gpu\u001b[49m\u001b[43m,\u001b[49m\u001b[43m \u001b[49m\u001b[43mvalid_data\u001b[49m\u001b[38;5;241;43m=\u001b[39;49m\u001b[43mvalid_data\u001b[49m\u001b[43m,\u001b[49m\u001b[43m \u001b[49m\n\u001b[1;32m      7\u001b[0m \u001b[43m      \u001b[49m\u001b[43mnum_epoch\u001b[49m\u001b[38;5;241;43m=\u001b[39;49m\u001b[43mnum_epoch\u001b[49m\u001b[43m,\u001b[49m\u001b[43m \u001b[49m\u001b[43mbatch_size\u001b[49m\u001b[38;5;241;43m=\u001b[39;49m\u001b[43mbatch_size\u001b[49m\u001b[43m)\u001b[49m\n",
      "Cell \u001b[0;32mIn[52], line 34\u001b[0m, in \u001b[0;36mtrain\u001b[0;34m(model, lr, subjects, train_data, zero_train_data, valid_data, num_epoch, batch_size)\u001b[0m\n\u001b[1;32m     31\u001b[0m target[mask] \u001b[38;5;241m=\u001b[39m output[mask]\n\u001b[1;32m     33\u001b[0m loss \u001b[38;5;241m=\u001b[39m F\u001b[38;5;241m.\u001b[39mmse_loss(output, target, reduction\u001b[38;5;241m=\u001b[39m\u001b[38;5;124m\"\u001b[39m\u001b[38;5;124mmean\u001b[39m\u001b[38;5;124m\"\u001b[39m)\n\u001b[0;32m---> 34\u001b[0m \u001b[43mloss\u001b[49m\u001b[38;5;241;43m.\u001b[39;49m\u001b[43mbackward\u001b[49m\u001b[43m(\u001b[49m\u001b[43m)\u001b[49m\n\u001b[1;32m     36\u001b[0m train_loss \u001b[38;5;241m+\u001b[39m\u001b[38;5;241m=\u001b[39m loss\u001b[38;5;241m.\u001b[39mitem()\n\u001b[1;32m     37\u001b[0m optimizer\u001b[38;5;241m.\u001b[39mstep()\n",
      "File \u001b[0;32m~/anaconda3/envs/311-torch2.1/lib/python3.10/site-packages/torch/_tensor.py:492\u001b[0m, in \u001b[0;36mTensor.backward\u001b[0;34m(self, gradient, retain_graph, create_graph, inputs)\u001b[0m\n\u001b[1;32m    482\u001b[0m \u001b[38;5;28;01mif\u001b[39;00m has_torch_function_unary(\u001b[38;5;28mself\u001b[39m):\n\u001b[1;32m    483\u001b[0m     \u001b[38;5;28;01mreturn\u001b[39;00m handle_torch_function(\n\u001b[1;32m    484\u001b[0m         Tensor\u001b[38;5;241m.\u001b[39mbackward,\n\u001b[1;32m    485\u001b[0m         (\u001b[38;5;28mself\u001b[39m,),\n\u001b[0;32m   (...)\u001b[0m\n\u001b[1;32m    490\u001b[0m         inputs\u001b[38;5;241m=\u001b[39minputs,\n\u001b[1;32m    491\u001b[0m     )\n\u001b[0;32m--> 492\u001b[0m \u001b[43mtorch\u001b[49m\u001b[38;5;241;43m.\u001b[39;49m\u001b[43mautograd\u001b[49m\u001b[38;5;241;43m.\u001b[39;49m\u001b[43mbackward\u001b[49m\u001b[43m(\u001b[49m\n\u001b[1;32m    493\u001b[0m \u001b[43m    \u001b[49m\u001b[38;5;28;43mself\u001b[39;49m\u001b[43m,\u001b[49m\u001b[43m \u001b[49m\u001b[43mgradient\u001b[49m\u001b[43m,\u001b[49m\u001b[43m \u001b[49m\u001b[43mretain_graph\u001b[49m\u001b[43m,\u001b[49m\u001b[43m \u001b[49m\u001b[43mcreate_graph\u001b[49m\u001b[43m,\u001b[49m\u001b[43m \u001b[49m\u001b[43minputs\u001b[49m\u001b[38;5;241;43m=\u001b[39;49m\u001b[43minputs\u001b[49m\n\u001b[1;32m    494\u001b[0m \u001b[43m\u001b[49m\u001b[43m)\u001b[49m\n",
      "File \u001b[0;32m~/anaconda3/envs/311-torch2.1/lib/python3.10/site-packages/torch/autograd/__init__.py:251\u001b[0m, in \u001b[0;36mbackward\u001b[0;34m(tensors, grad_tensors, retain_graph, create_graph, grad_variables, inputs)\u001b[0m\n\u001b[1;32m    246\u001b[0m     retain_graph \u001b[38;5;241m=\u001b[39m create_graph\n\u001b[1;32m    248\u001b[0m \u001b[38;5;66;03m# The reason we repeat the same comment below is that\u001b[39;00m\n\u001b[1;32m    249\u001b[0m \u001b[38;5;66;03m# some Python versions print out the first line of a multi-line function\u001b[39;00m\n\u001b[1;32m    250\u001b[0m \u001b[38;5;66;03m# calls in the traceback and some print out the last line\u001b[39;00m\n\u001b[0;32m--> 251\u001b[0m \u001b[43mVariable\u001b[49m\u001b[38;5;241;43m.\u001b[39;49m\u001b[43m_execution_engine\u001b[49m\u001b[38;5;241;43m.\u001b[39;49m\u001b[43mrun_backward\u001b[49m\u001b[43m(\u001b[49m\u001b[43m  \u001b[49m\u001b[38;5;66;43;03m# Calls into the C++ engine to run the backward pass\u001b[39;49;00m\n\u001b[1;32m    252\u001b[0m \u001b[43m    \u001b[49m\u001b[43mtensors\u001b[49m\u001b[43m,\u001b[49m\n\u001b[1;32m    253\u001b[0m \u001b[43m    \u001b[49m\u001b[43mgrad_tensors_\u001b[49m\u001b[43m,\u001b[49m\n\u001b[1;32m    254\u001b[0m \u001b[43m    \u001b[49m\u001b[43mretain_graph\u001b[49m\u001b[43m,\u001b[49m\n\u001b[1;32m    255\u001b[0m \u001b[43m    \u001b[49m\u001b[43mcreate_graph\u001b[49m\u001b[43m,\u001b[49m\n\u001b[1;32m    256\u001b[0m \u001b[43m    \u001b[49m\u001b[43minputs\u001b[49m\u001b[43m,\u001b[49m\n\u001b[1;32m    257\u001b[0m \u001b[43m    \u001b[49m\u001b[43mallow_unreachable\u001b[49m\u001b[38;5;241;43m=\u001b[39;49m\u001b[38;5;28;43;01mTrue\u001b[39;49;00m\u001b[43m,\u001b[49m\n\u001b[1;32m    258\u001b[0m \u001b[43m    \u001b[49m\u001b[43maccumulate_grad\u001b[49m\u001b[38;5;241;43m=\u001b[39;49m\u001b[38;5;28;43;01mTrue\u001b[39;49;00m\u001b[43m,\u001b[49m\n\u001b[1;32m    259\u001b[0m \u001b[43m\u001b[49m\u001b[43m)\u001b[49m\n",
      "\u001b[0;31mKeyboardInterrupt\u001b[0m: "
     ]
    }
   ],
   "source": [
    "model = EmbeddedAutoEncoder(train_matrix_gpu.shape[1], num_subject, embed_dim=10, p=0.5).to(device)\n",
    "\n",
    "lr=0.01\n",
    "num_epoch=100\n",
    "batch_size=10\n",
    "train(model, lr=lr, subjects=subjects_gpu, train_data=train_matrix_gpu, zero_train_data=zero_train_matrix_gpu, valid_data=valid_data, \n",
    "      num_epoch=num_epoch, batch_size=batch_size)"
   ]
  },
  {
   "cell_type": "code",
   "execution_count": 47,
   "id": "5d55e58b-87a7-4599-aa76-37bf81574a71",
   "metadata": {},
   "outputs": [
    {
     "name": "stdout",
     "output_type": "stream",
     "text": [
      "validating "
     ]
    },
    {
     "data": {
      "text/plain": [
       "0.46429579452441433"
      ]
     },
     "execution_count": 47,
     "metadata": {},
     "output_type": "execute_result"
    }
   ],
   "source": [
    "evaluate(model, subjects_gpu, zero_train_matrix_gpu, valid_data)"
   ]
  },
  {
   "cell_type": "markdown",
   "id": "56916f26-18bb-44ca-9f44-36e02d052531",
   "metadata": {},
   "source": [
    "## Finding Models"
   ]
  },
  {
   "cell_type": "code",
   "execution_count": null,
   "id": "c19a9a17-d468-4fe8-aa69-717996039d23",
   "metadata": {},
   "outputs": [],
   "source": []
  },
  {
   "cell_type": "code",
   "execution_count": 23,
   "id": "b6733996-a45f-4a37-9c30-0139c575e1bf",
   "metadata": {},
   "outputs": [],
   "source": [
    "class EmbeddedAutoEncoder(nn.Module):\n",
    "    def __init__(self, num_questions, num_subjects, embed_dim=100, p=0.5):\n",
    "        super(EmbeddedAutoEncoder, self).__init__()\n",
    "        \n",
    "        self.num_subjects = num_subjects\n",
    "        self.num_questions = num_questions\n",
    "        self.embed_dim = embed_dim\n",
    "        self.p = p\n",
    "\n",
    "        self.embedder = nn.EmbeddingBag(num_subjects, embed_dim, mode=\"mean\")\n",
    "\n",
    "        self.layers = nn.ModuleList([\n",
    "            nn.Linear(embed_dim * num_questions, 1000),\n",
    "            nn.ReLU(),\n",
    "            nn.Dropout(p=p),\n",
    "            nn.Linear(1000, 500),\n",
    "            nn.ReLU(),\n",
    "            nn.Dropout(p=p),\n",
    "            nn.Linear(500, 200),\n",
    "            nn.ReLU(),\n",
    "            nn.Dropout(p=p),\n",
    "            # nn.Linear(200, 200),\n",
    "            nn.Linear(200, 1000),\n",
    "            nn.ReLU(),\n",
    "            nn.Dropout(p=p),\n",
    "            nn.Linear(1000, num_questions),\n",
    "            nn.Sigmoid(),\n",
    "        ])\n",
    "\n",
    "    def forward(self, subjects, train_data):\n",
    "        embeddings = []\n",
    "        for s in subjects:\n",
    "            embeddings.append(self.embedder(s))\n",
    "        x = torch.cat(embeddings, axis=-1)\n",
    "        x = x * train_data.repeat_interleave(self.embed_dim,1)\n",
    "        for layer in self.layers:\n",
    "            x = layer(x)\n",
    "        return x"
   ]
  },
  {
   "cell_type": "code",
   "execution_count": 24,
   "id": "09a37b4c-046a-44c6-8e0a-24d06e7f0a15",
   "metadata": {},
   "outputs": [],
   "source": [
    "def train_plot_gpu(model, lr, subjects, train_data, zero_train_data, valid_data, num_epoch):\n",
    "    \"\"\" Train the neural network, where the objective also includes\n",
    "    a regularizer.\n",
    "\n",
    "    :param model: Module\n",
    "    :param lr: float\n",
    "    :param lamb: float\n",
    "    :param train_data: 2D FloatTensor\n",
    "    :param zero_train_data: 2D FloatTensor\n",
    "    :param valid_data: Dict\n",
    "    :param num_epoch: int\n",
    "    :return: None\n",
    "    \"\"\"\n",
    "    # TODO: Add a regularizer to the cost function.\n",
    "\n",
    "    # Tell PyTorch you are training the model.\n",
    "    model.train()\n",
    "\n",
    "    # Define optimizers and loss function.\n",
    "    optimizer = optim.SGD(model.parameters(), lr=lr)\n",
    "    num_student = train_data.shape[0]\n",
    "    train_losses = []\n",
    "    valid_accs = []\n",
    "\n",
    "    for epoch in range(0, num_epoch):\n",
    "        train_loss = 0.\n",
    "\n",
    "        for user_id in range(num_student):\n",
    "            inputs = Variable(zero_train_data[user_id]).unsqueeze(0)\n",
    "            target = inputs.clone()\n",
    "\n",
    "            optimizer.zero_grad()\n",
    "            output = model(subjects, inputs)\n",
    "\n",
    "            # Mask the target to only compute the gradient of valid entries.\n",
    "            nan_mask = torch.isnan(train_data[user_id].unsqueeze(0))\n",
    "            target[0:1][nan_mask] = output[0:1][nan_mask]\n",
    "\n",
    "            # loss = F.cross_entropy(output, target)\n",
    "            # loss = torch.sum((output - target) ** 2.)\n",
    "            loss = F.mse_loss(output, target, reduction=\"sum\")\n",
    "            # loss = loss + lamb/2 * model.get_weight_norm()\n",
    "            loss.backward()\n",
    "\n",
    "            train_loss += loss.item()\n",
    "            optimizer.step()\n",
    "        if epoch % 10 == 1:\n",
    "            valid_acc = evaluate(model, subjects, zero_train_data, valid_data)\n",
    "        else:\n",
    "            valid_acc=0\n",
    "\n",
    "        print(\"Epoch: {} \\tTraining Cost: {:.6f}\\t \"\n",
    "              \"Valid Acc: {}\".format(epoch, train_loss, valid_acc))\n",
    "        train_losses.append(train_loss)\n",
    "        valid_accs.append(valid_acc)\n",
    "    x = list(range(num_epoch))\n",
    "    fig, ax = plt.subplots(1, 2, figsize=(12,5))\n",
    "    ax[0].plot(x, train_losses)\n",
    "    ax[0].set_title(\"Training Loss\")\n",
    "    ax[1].plot(x, valid_accs)\n",
    "    ax[1].set_title(\"Validation\")\n",
    "    plt.tight_layout()\n",
    "    plt.show()\n",
    "    print(\"highest valid acc: \", np.max(valid_accs), \" in epoch: \", np.argmax(valid_accs))\n",
    "    print(\"lowest training err: \", np.min(train_losses), \" in epoch \", np.argmin(train_losses))"
   ]
  },
  {
   "cell_type": "code",
   "execution_count": 25,
   "id": "90ab5814-8aa1-4b7d-8837-19cced284aba",
   "metadata": {},
   "outputs": [],
   "source": [
    "def evaluate(model, subjects, train_data, valid_data):\n",
    "    \"\"\" Evaluate the valid_data on the current model.\n",
    "\n",
    "    :param model: Module\n",
    "    :param train_data: 2D FloatTensor\n",
    "    :param valid_data: A dictionary {user_id: list,\n",
    "    question_id: list, is_correct: list}\n",
    "    :return: float\n",
    "    \"\"\"\n",
    "    # Tell PyTorch you are evaluating the model.\n",
    "    model.eval()\n",
    "\n",
    "    total = 0\n",
    "    correct = 0\n",
    "\n",
    "    for i, u in enumerate(valid_data[\"user_id\"]):\n",
    "        inputs = Variable(train_data[u]).unsqueeze(0)\n",
    "        output = model(subjects, inputs)\n",
    "\n",
    "        guess = output[0][valid_data[\"question_id\"][i]].item() >= 0.5\n",
    "        if guess == valid_data[\"is_correct\"][i]:\n",
    "            correct += 1\n",
    "        total += 1\n",
    "    return correct / float(total)\n"
   ]
  },
  {
   "cell_type": "code",
   "execution_count": 26,
   "id": "5bfb2bb2-9694-43ca-a7da-23dbf819531f",
   "metadata": {
    "scrolled": true
   },
   "outputs": [
    {
     "name": "stdout",
     "output_type": "stream",
     "text": [
      "Epoch: 0 \tTraining Cost: 13777.634225\t Valid Acc: 0\n",
      "Epoch: 1 \tTraining Cost: 12942.322223\t Valid Acc: 0.6264465142534575\n",
      "Epoch: 2 \tTraining Cost: 12295.970273\t Valid Acc: 0\n",
      "Epoch: 3 \tTraining Cost: 11673.422376\t Valid Acc: 0\n",
      "Epoch: 4 \tTraining Cost: 11297.323585\t Valid Acc: 0\n",
      "Epoch: 5 \tTraining Cost: 11092.993082\t Valid Acc: 0\n",
      "Epoch: 6 \tTraining Cost: 10603.845365\t Valid Acc: 0\n",
      "Epoch: 7 \tTraining Cost: 10363.408291\t Valid Acc: 0\n",
      "Epoch: 8 \tTraining Cost: 9954.714923\t Valid Acc: 0\n",
      "Epoch: 9 \tTraining Cost: 9731.049780\t Valid Acc: 0\n",
      "Epoch: 10 \tTraining Cost: 9563.649203\t Valid Acc: 0\n",
      "Epoch: 11 \tTraining Cost: 9348.747466\t Valid Acc: 0.6731583403895004\n",
      "Epoch: 12 \tTraining Cost: 9193.521395\t Valid Acc: 0\n",
      "Epoch: 13 \tTraining Cost: 9039.889617\t Valid Acc: 0\n",
      "Epoch: 14 \tTraining Cost: 8928.931871\t Valid Acc: 0\n",
      "Epoch: 15 \tTraining Cost: 8813.937104\t Valid Acc: 0\n",
      "Epoch: 16 \tTraining Cost: 8350.058333\t Valid Acc: 0\n",
      "Epoch: 17 \tTraining Cost: 8105.897125\t Valid Acc: 0\n",
      "Epoch: 18 \tTraining Cost: 8038.346645\t Valid Acc: 0\n",
      "Epoch: 19 \tTraining Cost: 7914.622180\t Valid Acc: 0\n",
      "Epoch: 20 \tTraining Cost: 7647.846381\t Valid Acc: 0\n",
      "Epoch: 21 \tTraining Cost: 7528.332324\t Valid Acc: 0.6438046852949478\n"
     ]
    },
    {
     "ename": "KeyboardInterrupt",
     "evalue": "",
     "output_type": "error",
     "traceback": [
      "\u001b[0;31m---------------------------------------------------------------------------\u001b[0m",
      "\u001b[0;31mKeyboardInterrupt\u001b[0m                         Traceback (most recent call last)",
      "Cell \u001b[0;32mIn[26], line 6\u001b[0m\n\u001b[1;32m      4\u001b[0m num_epoch\u001b[38;5;241m=\u001b[39m\u001b[38;5;241m100\u001b[39m\n\u001b[1;32m      5\u001b[0m batch_size\u001b[38;5;241m=\u001b[39m\u001b[38;5;241m10\u001b[39m\n\u001b[0;32m----> 6\u001b[0m \u001b[43mtrain_plot_gpu\u001b[49m\u001b[43m(\u001b[49m\u001b[43mmodel\u001b[49m\u001b[43m,\u001b[49m\u001b[43m \u001b[49m\u001b[43mlr\u001b[49m\u001b[38;5;241;43m=\u001b[39;49m\u001b[43mlr\u001b[49m\u001b[43m,\u001b[49m\u001b[43m \u001b[49m\u001b[43msubjects\u001b[49m\u001b[38;5;241;43m=\u001b[39;49m\u001b[43msubjects_gpu\u001b[49m\u001b[43m,\u001b[49m\u001b[43m \u001b[49m\u001b[43mtrain_data\u001b[49m\u001b[38;5;241;43m=\u001b[39;49m\u001b[43mtrain_matrix_gpu\u001b[49m\u001b[43m,\u001b[49m\u001b[43m \u001b[49m\u001b[43mzero_train_data\u001b[49m\u001b[38;5;241;43m=\u001b[39;49m\u001b[43mzero_train_matrix_gpu\u001b[49m\u001b[43m,\u001b[49m\u001b[43m \u001b[49m\u001b[43mvalid_data\u001b[49m\u001b[38;5;241;43m=\u001b[39;49m\u001b[43mvalid_data\u001b[49m\u001b[43m,\u001b[49m\u001b[43m \u001b[49m\n\u001b[1;32m      7\u001b[0m \u001b[43m      \u001b[49m\u001b[43mnum_epoch\u001b[49m\u001b[38;5;241;43m=\u001b[39;49m\u001b[43mnum_epoch\u001b[49m\u001b[43m)\u001b[49m\n",
      "Cell \u001b[0;32mIn[24], line 43\u001b[0m, in \u001b[0;36mtrain_plot_gpu\u001b[0;34m(model, lr, subjects, train_data, zero_train_data, valid_data, num_epoch)\u001b[0m\n\u001b[1;32m     41\u001b[0m loss \u001b[38;5;241m=\u001b[39m F\u001b[38;5;241m.\u001b[39mmse_loss(output, target, reduction\u001b[38;5;241m=\u001b[39m\u001b[38;5;124m\"\u001b[39m\u001b[38;5;124msum\u001b[39m\u001b[38;5;124m\"\u001b[39m)\n\u001b[1;32m     42\u001b[0m \u001b[38;5;66;03m# loss = loss + lamb/2 * model.get_weight_norm()\u001b[39;00m\n\u001b[0;32m---> 43\u001b[0m \u001b[43mloss\u001b[49m\u001b[38;5;241;43m.\u001b[39;49m\u001b[43mbackward\u001b[49m\u001b[43m(\u001b[49m\u001b[43m)\u001b[49m\n\u001b[1;32m     45\u001b[0m train_loss \u001b[38;5;241m+\u001b[39m\u001b[38;5;241m=\u001b[39m loss\u001b[38;5;241m.\u001b[39mitem()\n\u001b[1;32m     46\u001b[0m optimizer\u001b[38;5;241m.\u001b[39mstep()\n",
      "File \u001b[0;32m~/anaconda3/envs/311-torch2.1/lib/python3.10/site-packages/torch/_tensor.py:492\u001b[0m, in \u001b[0;36mTensor.backward\u001b[0;34m(self, gradient, retain_graph, create_graph, inputs)\u001b[0m\n\u001b[1;32m    482\u001b[0m \u001b[38;5;28;01mif\u001b[39;00m has_torch_function_unary(\u001b[38;5;28mself\u001b[39m):\n\u001b[1;32m    483\u001b[0m     \u001b[38;5;28;01mreturn\u001b[39;00m handle_torch_function(\n\u001b[1;32m    484\u001b[0m         Tensor\u001b[38;5;241m.\u001b[39mbackward,\n\u001b[1;32m    485\u001b[0m         (\u001b[38;5;28mself\u001b[39m,),\n\u001b[0;32m   (...)\u001b[0m\n\u001b[1;32m    490\u001b[0m         inputs\u001b[38;5;241m=\u001b[39minputs,\n\u001b[1;32m    491\u001b[0m     )\n\u001b[0;32m--> 492\u001b[0m \u001b[43mtorch\u001b[49m\u001b[38;5;241;43m.\u001b[39;49m\u001b[43mautograd\u001b[49m\u001b[38;5;241;43m.\u001b[39;49m\u001b[43mbackward\u001b[49m\u001b[43m(\u001b[49m\n\u001b[1;32m    493\u001b[0m \u001b[43m    \u001b[49m\u001b[38;5;28;43mself\u001b[39;49m\u001b[43m,\u001b[49m\u001b[43m \u001b[49m\u001b[43mgradient\u001b[49m\u001b[43m,\u001b[49m\u001b[43m \u001b[49m\u001b[43mretain_graph\u001b[49m\u001b[43m,\u001b[49m\u001b[43m \u001b[49m\u001b[43mcreate_graph\u001b[49m\u001b[43m,\u001b[49m\u001b[43m \u001b[49m\u001b[43minputs\u001b[49m\u001b[38;5;241;43m=\u001b[39;49m\u001b[43minputs\u001b[49m\n\u001b[1;32m    494\u001b[0m \u001b[43m\u001b[49m\u001b[43m)\u001b[49m\n",
      "File \u001b[0;32m~/anaconda3/envs/311-torch2.1/lib/python3.10/site-packages/torch/autograd/__init__.py:251\u001b[0m, in \u001b[0;36mbackward\u001b[0;34m(tensors, grad_tensors, retain_graph, create_graph, grad_variables, inputs)\u001b[0m\n\u001b[1;32m    246\u001b[0m     retain_graph \u001b[38;5;241m=\u001b[39m create_graph\n\u001b[1;32m    248\u001b[0m \u001b[38;5;66;03m# The reason we repeat the same comment below is that\u001b[39;00m\n\u001b[1;32m    249\u001b[0m \u001b[38;5;66;03m# some Python versions print out the first line of a multi-line function\u001b[39;00m\n\u001b[1;32m    250\u001b[0m \u001b[38;5;66;03m# calls in the traceback and some print out the last line\u001b[39;00m\n\u001b[0;32m--> 251\u001b[0m \u001b[43mVariable\u001b[49m\u001b[38;5;241;43m.\u001b[39;49m\u001b[43m_execution_engine\u001b[49m\u001b[38;5;241;43m.\u001b[39;49m\u001b[43mrun_backward\u001b[49m\u001b[43m(\u001b[49m\u001b[43m  \u001b[49m\u001b[38;5;66;43;03m# Calls into the C++ engine to run the backward pass\u001b[39;49;00m\n\u001b[1;32m    252\u001b[0m \u001b[43m    \u001b[49m\u001b[43mtensors\u001b[49m\u001b[43m,\u001b[49m\n\u001b[1;32m    253\u001b[0m \u001b[43m    \u001b[49m\u001b[43mgrad_tensors_\u001b[49m\u001b[43m,\u001b[49m\n\u001b[1;32m    254\u001b[0m \u001b[43m    \u001b[49m\u001b[43mretain_graph\u001b[49m\u001b[43m,\u001b[49m\n\u001b[1;32m    255\u001b[0m \u001b[43m    \u001b[49m\u001b[43mcreate_graph\u001b[49m\u001b[43m,\u001b[49m\n\u001b[1;32m    256\u001b[0m \u001b[43m    \u001b[49m\u001b[43minputs\u001b[49m\u001b[43m,\u001b[49m\n\u001b[1;32m    257\u001b[0m \u001b[43m    \u001b[49m\u001b[43mallow_unreachable\u001b[49m\u001b[38;5;241;43m=\u001b[39;49m\u001b[38;5;28;43;01mTrue\u001b[39;49;00m\u001b[43m,\u001b[49m\n\u001b[1;32m    258\u001b[0m \u001b[43m    \u001b[49m\u001b[43maccumulate_grad\u001b[49m\u001b[38;5;241;43m=\u001b[39;49m\u001b[38;5;28;43;01mTrue\u001b[39;49;00m\u001b[43m,\u001b[49m\n\u001b[1;32m    259\u001b[0m \u001b[43m\u001b[49m\u001b[43m)\u001b[49m\n",
      "\u001b[0;31mKeyboardInterrupt\u001b[0m: "
     ]
    }
   ],
   "source": [
    "model = EmbeddedAutoEncoder(train_matrix_gpu.shape[1], num_subject, embed_dim=10, p=0.5).to(device)\n",
    "\n",
    "lr=0.01\n",
    "num_epoch=100\n",
    "batch_size=10\n",
    "train_plot_gpu(model, lr=lr, subjects=subjects_gpu, train_data=train_matrix_gpu, zero_train_data=zero_train_matrix_gpu, valid_data=valid_data, \n",
    "      num_epoch=num_epoch)"
   ]
  },
  {
   "cell_type": "markdown",
   "id": "05922980-b3dc-4225-96af-ed18286b7a01",
   "metadata": {},
   "source": [
    "try to accelerate"
   ]
  },
  {
   "cell_type": "code",
   "execution_count": 62,
   "id": "9008ccd3-cd0d-4b85-be34-9d4572f65881",
   "metadata": {},
   "outputs": [],
   "source": [
    "class EmbeddedAutoEncoder(nn.Module):\n",
    "    def __init__(self, num_questions, num_subjects, subjects, embed_dim=100, p=0.5):\n",
    "        super(EmbeddedAutoEncoder, self).__init__()\n",
    "        \n",
    "        self.num_subjects = num_subjects\n",
    "        self.num_questions = num_questions\n",
    "        self.embed_dim = embed_dim\n",
    "        self.p = p\n",
    "\n",
    "        subjects_flat = [s.flatten() for s in subjects]\n",
    "        max_length = max(len(s) for s in subjects_flat)\n",
    "        constant = num_subjects\n",
    "        padded_subjects = [torch.nn.functional.pad(s, (0, max_length - len(s)), \"constant\", constant) for s in subjects_flat]\n",
    "        self.combined_subjects = torch.stack(padded_subjects).view(-1)  # Shape: [batch_size, max_length]\n",
    "        self.combined_subjects = self.combined_subjects.to(device)\n",
    "        self.offsets = torch.arange(0, num_questions * max_length, max_length, dtype=torch.long).to(device)\n",
    "\n",
    "        self.embedder = nn.EmbeddingBag(num_subjects+1, embed_dim, mode=\"mean\")\n",
    "\n",
    "        self.layers = nn.ModuleList([\n",
    "            nn.Linear(embed_dim * num_questions, 1000),\n",
    "            nn.ReLU(),\n",
    "            nn.Dropout(p=p),\n",
    "            nn.Linear(1000, 500),\n",
    "            nn.ReLU(),\n",
    "            nn.Dropout(p=p),\n",
    "            nn.Linear(500, 200),\n",
    "            nn.ReLU(),\n",
    "            nn.Dropout(p=p),\n",
    "            # nn.Linear(200, 200),\n",
    "            nn.Linear(200, 1000),\n",
    "            nn.ReLU(),\n",
    "            nn.Dropout(p=p),\n",
    "            nn.Linear(1000, num_questions),\n",
    "            nn.Sigmoid(),\n",
    "        ])\n",
    "\n",
    "    def forward(self, input):\n",
    "        # print(self.combined_subjects.shape)\n",
    "        # print(self.offsets)\n",
    "        x = self.embedder(self.combined_subjects, self.offsets)\n",
    "        x = x.flatten()\n",
    "        x = x.unsqueeze(0)\n",
    "        x = x * input.repeat_interleave(self.embed_dim,1)\n",
    "        for layer in self.layers:\n",
    "            x = layer(x)\n",
    "        return x"
   ]
  },
  {
   "cell_type": "code",
   "execution_count": 49,
   "id": "97325e70-00ed-45c2-ad7a-9d0ea0474d4e",
   "metadata": {},
   "outputs": [],
   "source": [
    "def evaluate(model, train_data, valid_data):\n",
    "    \"\"\" Evaluate the valid_data on the current model.\n",
    "\n",
    "    :param model: Module\n",
    "    :param train_data: 2D FloatTensor\n",
    "    :param valid_data: A dictionary {user_id: list,\n",
    "    question_id: list, is_correct: list}\n",
    "    :return: float\n",
    "    \"\"\"\n",
    "    # Tell PyTorch you are evaluating the model.\n",
    "    model.eval()\n",
    "\n",
    "    total = 0\n",
    "    correct = 0\n",
    "\n",
    "    for i, u in enumerate(valid_data[\"user_id\"]):\n",
    "        inputs = Variable(train_data[u]).unsqueeze(0)\n",
    "        output = model(inputs)\n",
    "\n",
    "        guess = output[0][valid_data[\"question_id\"][i]].item() >= 0.5\n",
    "        if guess == valid_data[\"is_correct\"][i]:\n",
    "            correct += 1\n",
    "        total += 1\n",
    "    return correct / float(total)"
   ]
  },
  {
   "cell_type": "code",
   "execution_count": 67,
   "id": "6c63a660-5ec5-419f-b9b7-640a4fc99dae",
   "metadata": {},
   "outputs": [],
   "source": [
    "def train_plot_gpu(model, lr, train_data, zero_train_data, valid_data, num_epoch):\n",
    "    \"\"\" Train the neural network, where the objective also includes\n",
    "    a regularizer.\n",
    "\n",
    "    :param model: Module\n",
    "    :param lr: float\n",
    "    :param lamb: float\n",
    "    :param train_data: 2D FloatTensor\n",
    "    :param zero_train_data: 2D FloatTensor\n",
    "    :param valid_data: Dict\n",
    "    :param num_epoch: int\n",
    "    :return: None\n",
    "    \"\"\"\n",
    "    # TODO: Add a regularizer to the cost function.\n",
    "\n",
    "    # Tell PyTorch you are training the model.\n",
    "    model.train()\n",
    "\n",
    "    # Define optimizers and loss function.\n",
    "    optimizer = optim.SGD(model.parameters(), lr=lr)\n",
    "    num_student = train_data.shape[0]\n",
    "    train_losses = []\n",
    "    valid_accs = []\n",
    "\n",
    "    for epoch in range(0, num_epoch):\n",
    "        train_loss = 0.\n",
    "\n",
    "        for user_id in range(num_student):\n",
    "            inputs = Variable(zero_train_data[user_id]).unsqueeze(0)\n",
    "            target = inputs.clone()\n",
    "\n",
    "            optimizer.zero_grad()\n",
    "            output = model(inputs)\n",
    "\n",
    "            # Mask the target to only compute the gradient of valid entries.\n",
    "            nan_mask = torch.isnan(train_data[user_id].unsqueeze(0))\n",
    "            target[0:1][nan_mask] = output[0:1][nan_mask]\n",
    "\n",
    "            # loss = F.cross_entropy(output, target)\n",
    "            # loss = torch.sum((output - target) ** 2.)\n",
    "            loss = F.mse_loss(output, target, reduction=\"sum\")\n",
    "            # loss = loss + lamb/2 * model.get_weight_norm()\n",
    "            loss.backward()\n",
    "\n",
    "            train_loss += loss.item()\n",
    "            optimizer.step()\n",
    "        if epoch % 2 == 1:\n",
    "            valid_acc = evaluate(model, zero_train_data, valid_data)\n",
    "            valid_accs.append(valid_acc)\n",
    "        else:\n",
    "            valid_acc = 0\n",
    "\n",
    "        print(\"Epoch: {} \\tTraining Cost: {:.6f}\\t \"\n",
    "              \"Valid Acc: {}\".format(epoch, train_loss, valid_acc))\n",
    "        train_losses.append(train_loss)\n",
    "    x = list(range(num_epoch))\n",
    "    fig, ax = plt.subplots(1, 2, figsize=(12,5))\n",
    "    ax[0].plot(train_losses)\n",
    "    ax[0].set_title(\"Training Loss\")\n",
    "    ax[1].plot(valid_accs)\n",
    "    ax[1].set_title(\"Validation\")\n",
    "    plt.tight_layout()\n",
    "    plt.show()\n",
    "    print(\"highest valid acc: \", np.max(valid_accs), \" in epoch: \", np.argmax(valid_accs))\n",
    "    print(\"lowest training err: \", np.min(train_losses), \" in epoch \", np.argmin(train_losses))"
   ]
  },
  {
   "cell_type": "code",
   "execution_count": 68,
   "id": "cf09049a-c62b-4a22-a97c-de952b858a06",
   "metadata": {},
   "outputs": [
    {
     "name": "stdout",
     "output_type": "stream",
     "text": [
      "Epoch: 0 \tTraining Cost: 13892.964820\t Valid Acc: 0\n",
      "Epoch: 1 \tTraining Cost: 12897.390257\t Valid Acc: 0.6270110076206604\n",
      "Epoch: 2 \tTraining Cost: 12262.235284\t Valid Acc: 0\n",
      "Epoch: 3 \tTraining Cost: 11751.869220\t Valid Acc: 0.6445103020039514\n",
      "Epoch: 4 \tTraining Cost: 11337.563972\t Valid Acc: 0\n",
      "Epoch: 5 \tTraining Cost: 10976.269258\t Valid Acc: 0.6713237369460909\n",
      "Epoch: 6 \tTraining Cost: 10767.449447\t Valid Acc: 0\n",
      "Epoch: 7 \tTraining Cost: 10435.919815\t Valid Acc: 0.6847304544171606\n",
      "Epoch: 8 \tTraining Cost: 10223.570686\t Valid Acc: 0\n",
      "Epoch: 9 \tTraining Cost: 9979.141842\t Valid Acc: 0.682895850973751\n"
     ]
    },
    {
     "data": {
      "image/png": "[encoded data removed]",
      "text/plain": [
       "<Figure size 1200x500 with 2 Axes>"
      ]
     },
     "metadata": {},
     "output_type": "display_data"
    },
    {
     "name": "stdout",
     "output_type": "stream",
     "text": [
      "highest valid acc:  0.6847304544171606  in epoch:  3\n",
      "lowest training err:  9979.141841948032  in epoch  9\n"
     ]
    }
   ],
   "source": [
    "model = EmbeddedAutoEncoder(train_matrix_gpu.shape[1], num_subject, subjects, embed_dim=10, p=0.5).to(device)\n",
    "\n",
    "lr=0.01\n",
    "num_epoch=10\n",
    "batch_size=10\n",
    "train_plot_gpu(model, lr=lr, train_data=train_matrix_gpu, zero_train_data=zero_train_matrix_gpu, valid_data=valid_data, \n",
    "      num_epoch=num_epoch)"
   ]
  },
  {
   "cell_type": "code",
   "execution_count": null,
   "id": "a0026899-267c-459d-92f8-fa7e78ea3128",
   "metadata": {},
   "outputs": [],
   "source": []
  }
 ],
 "metadata": {
  "kernelspec": {
   "display_name": "Python 3 (ipykernel)",
   "language": "python",
   "name": "python3"
  },
  "language_info": {
   "codemirror_mode": {
    "name": "ipython",
    "version": 3
   },
   "file_extension": ".py",
   "mimetype": "text/x-python",
   "name": "python",
   "nbconvert_exporter": "python",
   "pygments_lexer": "ipython3",
   "version": "3.10.14"
  }
 },
 "nbformat": 4,
 "nbformat_minor": 5
}
